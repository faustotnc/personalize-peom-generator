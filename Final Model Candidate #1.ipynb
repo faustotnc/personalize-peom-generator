{
  "nbformat": 4,
  "nbformat_minor": 0,
  "metadata": {
    "colab": {
      "name": "TF - Baseline Model.ipynb",
      "provenance": [],
      "collapsed_sections": [],
      "toc_visible": true
    },
    "kernelspec": {
      "name": "python3",
      "display_name": "Python 3"
    },
    "accelerator": "GPU"
  },
  "cells": [
    {
      "cell_type": "code",
      "metadata": {
        "id": "w5NqMo9Baajr"
      },
      "source": [
        "import os\n",
        "# Prevent kernel from dying\n",
        "os.environ[\"KMP_DUPLICATE_LIB_OK\"] = \"True\"\n",
        "\n",
        "import numpy as np\n",
        "import pandas as pd\n",
        "import matplotlib.pyplot as plt\n",
        "import nltk\n",
        "from nltk.util import ngrams\n",
        "import string, time, math, random, sys, io"
      ],
      "execution_count": 1,
      "outputs": []
    },
    {
      "cell_type": "markdown",
      "metadata": {
        "id": "--DWM4QS4XGi"
      },
      "source": [
        "# Importing Tensorflow and Keras"
      ]
    },
    {
      "cell_type": "code",
      "metadata": {
        "id": "Nasv0h6EauKf"
      },
      "source": [
        "from tensorflow import keras\n",
        "from tensorflow.keras import layers\n",
        "import tensorflow as tf\n",
        "from tensorflow.python.keras.utils.data_utils import Sequence"
      ],
      "execution_count": 2,
      "outputs": []
    },
    {
      "cell_type": "markdown",
      "metadata": {
        "id": "Y4tZ5YVh4c9U"
      },
      "source": [
        "# Loading the Raw Data"
      ]
    },
    {
      "cell_type": "code",
      "metadata": {
        "id": "ixjGMzHFayMs",
        "colab": {
          "base_uri": "https://localhost:8080/"
        },
        "outputId": "3e77041e-1a52-4d94-c873-8749c3064d86"
      },
      "source": [
        "from google.colab import drive\n",
        "drive.mount('/content/drive')\n",
        "\n",
        "# Reads the data\n",
        "labeledPfd = pd.read_csv(\"/content/drive/MyDrive/LabeledPoetryFoundationPoems.csv\")\n",
        "labeledPfd = labeledPfd.sample(frac=1) # randomizes the data\n",
        "\n",
        "# Filters the poems by category\n",
        "def get_poems_by_category(category):\n",
        "    data = []\n",
        "    for poem, emotion in zip(labeledPfd[\"poem\"], labeledPfd[\"emotion\"]):\n",
        "        if emotion == category:\n",
        "            data.append(poem)\n",
        "    return data\n",
        "\n",
        "\n",
        "# Gets the poems in each category\n",
        "poems = {\n",
        "    \"joy\": get_poems_by_category(\"joy\"),\n",
        "    \"trust\": get_poems_by_category(\"trust\"),\n",
        "    \"sadness\": get_poems_by_category(\"sadness\"),\n",
        "    \"anticipation\": get_poems_by_category(\"anticipation\"),\n",
        "    \"fear\": get_poems_by_category(\"fear\"),\n",
        "    \"anger\": get_poems_by_category(\"anger\"),\n",
        "    \"disgust\": get_poems_by_category(\"disgust\"),\n",
        "    \"surprise\": get_poems_by_category(\"surprise\")\n",
        "}"
      ],
      "execution_count": 3,
      "outputs": [
        {
          "output_type": "stream",
          "text": [
            "Drive already mounted at /content/drive; to attempt to forcibly remount, call drive.mount(\"/content/drive\", force_remount=True).\n"
          ],
          "name": "stdout"
        }
      ]
    },
    {
      "cell_type": "markdown",
      "metadata": {
        "id": "-UN86XON4hpz"
      },
      "source": [
        "# Processing the Data\n",
        "\n",
        "In this cell, the data is processed into tokens that can be inputted into the model. Here we also create the input-output pair batches that will be used to train, validate, and evaluate, the model."
      ]
    },
    {
      "cell_type": "code",
      "metadata": {
        "id": "G5WSxjHNbIyC"
      },
      "source": [
        "class Vocabulary:\n",
        "    def __init__(self):\n",
        "        punctuation = \" .,<>'();?!:-\\\"\\n\\t\"\n",
        "        digits = \"0123456789\"\n",
        "        self.valid_chars = string.ascii_letters + punctuation + digits\n",
        "\n",
        "        # Encodes the position of each character in the vocabulary\n",
        "        self.char2idx = {word: i for i, word in enumerate(self.valid_chars)}\n",
        "        self.idx2char = np.array(list(self.valid_chars))\n",
        "\n",
        "    def __len__(self):\n",
        "        return len(self.valid_chars)\n",
        "\n",
        "    def chars(self):\n",
        "        return self.valid_chars\n",
        "    \n",
        "    def isValidChar(self, char):\n",
        "        return char in self.valid_chars\n",
        "    \n",
        "    def charToId(self, char):\n",
        "        return self.char2idx[char]\n",
        "\n",
        "    def idToChar(self, id):\n",
        "        return self.idx2char[id]\n",
        "\n",
        "# Forms the vocabulary shared accross all models\n",
        "vocab = Vocabulary()\n",
        "\n",
        "\n",
        "class DataProcessor:\n",
        "    def __init__(self, dataset, batch_size=32, seq_len=48):\n",
        "        self.seq_len = seq_len\n",
        "        full_data = list(dataset)\n",
        "\n",
        "        # Splits the data into training and testing sets\n",
        "        tenPercent = math.ceil(len(full_data) * 0.1)\n",
        "        self.test_set = full_data[:tenPercent]\n",
        "        full_data = full_data[tenPercent:]\n",
        "\n",
        "        # Cleans the data by removing\n",
        "        # punctuation from the dataset\n",
        "        self.clean_data = self.data_cleaner(full_data)\n",
        "        print(\"Number of characters:\", len(self.clean_data))\n",
        "        print(\"Vocabulary Size: \" + str(len(vocab)))\n",
        "\n",
        "        # Transforms the entire text into integers\n",
        "        text_as_int = np.array([vocab.charToId(c) for c in self.clean_data])\n",
        "\n",
        "        # Create training examples / targets\n",
        "        char_dataset = tf.data.Dataset.from_tensor_slices(text_as_int)\n",
        "        sequences = char_dataset.batch(self.seq_len+1, drop_remainder=True)\n",
        "\n",
        "        self.dataset = sequences.map(self.split_input_target)\n",
        "\n",
        "        print(\"\\nExample Input-Target pair:\")\n",
        "        for input_example, target_example in self.dataset.take(1):\n",
        "            print('Input data: ', repr(''.join(vocab.idToChar(input_example.numpy()))))\n",
        "            print('Target data:', repr(''.join(vocab.idToChar(target_example.numpy()))))\n",
        "\n",
        "        # Buffer size to shuffle the dataset\n",
        "        # (TF data is designed to work with possibly infinite sequences,\n",
        "        # so it doesn't attempt to shuffle the entire sequence in memory. Instead,\n",
        "        # it maintains a buffer in which it shuffles elements).\n",
        "        BUFFER_SIZE = 10000\n",
        "        self.dataset = self.dataset.shuffle(BUFFER_SIZE).batch(\n",
        "            batch_size,\n",
        "            drop_remainder=True\n",
        "        )\n",
        "        print(\"\\n\")\n",
        "        print(\"Number of batches: \" + str(len(dataset)))\n",
        "        print(self.dataset)\n",
        "\n",
        "        fivePercent = math.ceil(len(dataset) * 0.1)\n",
        "        self.val_inps = []\n",
        "        self.val_tars = []\n",
        "        val = self.dataset.take(fivePercent)\n",
        "        self.dataset = self.dataset.skip(fivePercent)\n",
        "        for val_inp, val_tar in val:\n",
        "            self.val_inps.append(val_inp)\n",
        "            self.val_tars.append(val_tar)\n",
        "\n",
        "\n",
        "    def data_cleaner(self, poem_list):\n",
        "        clean_data = []\n",
        "        \n",
        "        for poem in poem_list:\n",
        "            # Adds the \"poem start\" symbol\n",
        "            clean_data.append(\"<\")\n",
        "\n",
        "            for char in list(poem):\n",
        "                prevChar = clean_data[len(clean_data) - 1]\n",
        "                if (vocab.isValidChar(char)):\n",
        "                    if (char == \"\\n\" and prevChar == \"\\n\"):\n",
        "                        pass\n",
        "                    else:\n",
        "                        clean_data.append(char)\n",
        "\n",
        "            # Adds the \"poem end\" symbol\n",
        "            clean_data.append(\">\")\n",
        "        \n",
        "        return clean_data\n",
        "\n",
        "    def split_input_target(self, chunk):\n",
        "        input_text = chunk[:-1]\n",
        "        target_text = chunk[1:]\n",
        "        return input_text, target_text"
      ],
      "execution_count": 4,
      "outputs": []
    },
    {
      "cell_type": "markdown",
      "metadata": {
        "id": "XkL3UiJ249KS"
      },
      "source": [
        "# The Model Base Classes\n",
        "\n",
        "In the next two blocks we define the `PoemModel` class and the `GeneratorModel` class. With these two classes we are able to reuse the same code for training multiple models and generating poems."
      ]
    },
    {
      "cell_type": "markdown",
      "metadata": {
        "id": "HI47if0iMSm6"
      },
      "source": [
        "#### The Class for Training the Models"
      ]
    },
    {
      "cell_type": "code",
      "metadata": {
        "id": "sHKFig63cH__"
      },
      "source": [
        "class PoemModel:\n",
        "    def __init__(self, data, batch_size=32, weights=None, print_summary=False):\n",
        "        \"\"\"\n",
        "        Creates a trainable model.\n",
        "        ::data - An instance of the `DataProcessor` class.\n",
        "        ::batch_size - The size of the batches used for training the model. 32\n",
        "            by default.\n",
        "        ::weights - When this class is used for prediction, a set of weights\n",
        "            must be provided from another model which was used for training.\n",
        "        \"\"\"\n",
        "\n",
        "        self.data = data\n",
        "        self.history = None\n",
        "\n",
        "        # Global Hyperparameters\n",
        "        self.recurrent_units = 928\n",
        "        self.embedding_size = 128\n",
        "        self.dropout_rate = 0.2\n",
        "        self.n_epochs = 64\n",
        "        self.optimizer = keras.optimizers.RMSprop()\n",
        "        self.loss_function = lambda labels, logits: keras.losses.sparse_categorical_crossentropy(\n",
        "            labels, logits, from_logits=True\n",
        "        )\n",
        "\n",
        "        # Model-Specific Hyperparameters\n",
        "        self.batch_size = batch_size\n",
        "        self.weights = weights\n",
        "\n",
        "        # Creates the model\n",
        "        self.model = self.__createModel()\n",
        "        if (print_summary): self.model.summary()\n",
        "\n",
        "\n",
        "    def train(self):\n",
        "        \"\"\"\n",
        "        Trains the model using the provided data under the GPU\n",
        "        provided by Google Colab.\n",
        "        \"\"\"\n",
        "        with tf.device('/device:GPU:0'):\n",
        "            model_callbacks = [\n",
        "                # Reduces the learning rate if the model is having trouble\n",
        "                # learning the data. This is applied after two epochs with\n",
        "                # no improvement to the model's loss.\n",
        "                tf.keras.callbacks.ReduceLROnPlateau(patience=2),\n",
        "                # If even after reducing the learning rate the model still does\n",
        "                # not improve, after 5 epochs of non-improving loss, the model\n",
        "                # halts the training process.\n",
        "                tf.keras.callbacks.EarlyStopping(patience=4)\n",
        "            ]\n",
        "\n",
        "            self.history = self.model.fit(\n",
        "                self.data.dataset,\n",
        "                epochs=self.n_epochs,\n",
        "                callbacks=model_callbacks,\n",
        "                validation_data=(self.data.val_inps, self.data.val_tars)\n",
        "            )\n",
        "\n",
        "\n",
        "    def plot_loss(self, name):\n",
        "        if (self.history != None):\n",
        "            plt.plot(self.history.history['loss'])\n",
        "            plt.plot(self.history.history['val_loss'])\n",
        "            plt.title('Metrics for ' + name + ' model')\n",
        "            plt.ylabel('loss')\n",
        "            plt.xlabel('epoch')\n",
        "            plt.legend(['train', 'test'], loc='upper left')\n",
        "            plt.show()\n",
        "        else:\n",
        "            print(\"The model must be trained before the loss can be plotted.\")\n",
        "\n",
        "\n",
        "    def __createModel(self):\n",
        "        \"\"\"\n",
        "        Creates an new sequential model with the specified\n",
        "        hyperpearameters. If a set of weights (from anothe model)\n",
        "        were provided, those weights are set for this model.\n",
        "        \"\"\"\n",
        "        model = keras.models.Sequential([\n",
        "            layers.Embedding(\n",
        "                len(vocab),\n",
        "                self.embedding_size,\n",
        "                batch_input_shape=(self.batch_size, self.data.seq_len),\n",
        "                name=\"EMBEDDING_layer\"\n",
        "            ),\n",
        "            layers.Dense(len(vocab), activation=\"tanh\", name=\"TANH_layer\"),\n",
        "            layers.GRU(\n",
        "                self.recurrent_units,\n",
        "                stateful=True,\n",
        "                return_sequences=True,\n",
        "                recurrent_initializer='glorot_uniform',\n",
        "                name=\"GRU_layer\"\n",
        "            ),\n",
        "            layers.Dropout(self.dropout_rate),\n",
        "            layers.Dense(len(vocab), name=\"OUTPUT_layer\")\n",
        "        ])\n",
        "        \n",
        "        # If no wights were loaded into this model, we create a\n",
        "        # new model from scratch. Otherwise we set the provided\n",
        "        # wights into this model.\n",
        "        if (self.weights == None):\n",
        "            model.compile(loss=self.loss_function, optimizer=self.optimizer)\n",
        "        else:\n",
        "            model.set_weights(self.weights)\n",
        "        \n",
        "        # Returns the created model\n",
        "        return model"
      ],
      "execution_count": 5,
      "outputs": []
    },
    {
      "cell_type": "markdown",
      "metadata": {
        "id": "8rOp56EuMXr9"
      },
      "source": [
        "#### The Class for Generating New Poems"
      ]
    },
    {
      "cell_type": "code",
      "metadata": {
        "id": "qgjrNWrHMad2"
      },
      "source": [
        "class GeneratorModel:\n",
        "    def __init__(self, trainedModel):\n",
        "        self.trainedModel = trainedModel\n",
        "\n",
        "        self.model = PoemModel(\n",
        "            self.trainedModel.data,\n",
        "            batch_size=1,\n",
        "            # Copies the trained weights into this model\n",
        "            weights=trainedModel.model.get_weights()\n",
        "        )\n",
        "\n",
        "\n",
        "    def generate(self, start_string, out_len, temperature=0.5):\n",
        "        \"\"\"\n",
        "        Generates a new poem from the specified starting string.\n",
        "        ::start_string - A seed string used for generating the new poem.\n",
        "        ::out_len - The size (in characters) of the generated poem.\n",
        "        ::temperature - The diversity of the generated text. If the number is\n",
        "            low, the generated setences will look similar to the sentences it has\n",
        "            seen before. If the number is high, the sentences will be more\n",
        "            \"original\" (but may not look as perfect).\n",
        "        \"\"\"\n",
        "        # Converting our start string to numbers (vectorizing)\n",
        "        input_eval = [vocab.charToId(s) for s in start_string]\n",
        "        input_eval = tf.expand_dims(input_eval, 0)\n",
        "\n",
        "        # Empty string to store our results\n",
        "        text_generated = []\n",
        "\n",
        "        # Here batch size == 1\n",
        "        # model.reset_states()\n",
        "        for i in range(out_len):\n",
        "            predictions = self.model.model(input_eval)\n",
        "            # remove the batch dimension\n",
        "            predictions = tf.squeeze(predictions, 0)\n",
        "\n",
        "            # using a categorical distribution to predict\n",
        "            # the character returned by the model\n",
        "            predictions = predictions / temperature\n",
        "            predicted_id = tf.random.categorical(predictions, num_samples=1)[-1,0].numpy()\n",
        "\n",
        "            # Pass the predicted character as the next input to the model\n",
        "            # along with the previous hidden state\n",
        "            input_eval = tf.expand_dims([predicted_id], 0)\n",
        "\n",
        "            predicted_char = vocab.idToChar(predicted_id)\n",
        "\n",
        "            if predicted_char == \">\":\n",
        "                print(\"FOUND POEM END!!!\")\n",
        "                break\n",
        "            else:\n",
        "                text_generated.append(predicted_char)\n",
        "\n",
        "        return (start_string + ''.join(text_generated))"
      ],
      "execution_count": 6,
      "outputs": []
    },
    {
      "cell_type": "markdown",
      "metadata": {
        "id": "U5cTaROq5SQZ"
      },
      "source": [
        "# The Model for the \"JOY\" Category"
      ]
    },
    {
      "cell_type": "markdown",
      "metadata": {
        "id": "M0tbCizj5wQw"
      },
      "source": [
        "### Processing the Data for the \"JOY\" dataset"
      ]
    },
    {
      "cell_type": "code",
      "metadata": {
        "colab": {
          "base_uri": "https://localhost:8080/"
        },
        "id": "d1Pokz0vcPez",
        "outputId": "20113fd5-170d-4465-d14a-138d170c2081"
      },
      "source": [
        "joyData = DataProcessor(poems[\"joy\"])"
      ],
      "execution_count": 7,
      "outputs": [
        {
          "output_type": "stream",
          "text": [
            "Number of characters: 5985646\n",
            "Vocabulary Size: 78\n",
            "\n",
            "Example Input-Target pair:\n",
            "Input data:  '<\\nIn our old shipwrecked days there was an hour,'\n",
            "Target data: '\\nIn our old shipwrecked days there was an hour,\\n'\n",
            "\n",
            "\n",
            "Number of batches: 4281\n",
            "<BatchDataset shapes: ((32, 48), (32, 48)), types: (tf.int64, tf.int64)>\n"
          ],
          "name": "stdout"
        }
      ]
    },
    {
      "cell_type": "markdown",
      "metadata": {
        "id": "iAgTpuAN55G2"
      },
      "source": [
        "### Defining the model for the \"JOY\" category"
      ]
    },
    {
      "cell_type": "code",
      "metadata": {
        "colab": {
          "base_uri": "https://localhost:8080/"
        },
        "id": "-3kah-nB1sEe",
        "outputId": "f29dafdb-6c44-4d2f-e030-9a17a0209a14"
      },
      "source": [
        "joyModel = PoemModel(joyData, print_summary=True)"
      ],
      "execution_count": 8,
      "outputs": [
        {
          "output_type": "stream",
          "text": [
            "Model: \"sequential\"\n",
            "_________________________________________________________________\n",
            "Layer (type)                 Output Shape              Param #   \n",
            "=================================================================\n",
            "EMBEDDING_layer (Embedding)  (32, 48, 128)             9984      \n",
            "_________________________________________________________________\n",
            "TANH_layer (Dense)           (32, 48, 78)              10062     \n",
            "_________________________________________________________________\n",
            "GRU_layer (GRU)              (32, 48, 928)             2806272   \n",
            "_________________________________________________________________\n",
            "dropout (Dropout)            (32, 48, 928)             0         \n",
            "_________________________________________________________________\n",
            "OUTPUT_layer (Dense)         (32, 48, 78)              72462     \n",
            "=================================================================\n",
            "Total params: 2,898,780\n",
            "Trainable params: 2,898,780\n",
            "Non-trainable params: 0\n",
            "_________________________________________________________________\n"
          ],
          "name": "stdout"
        }
      ]
    },
    {
      "cell_type": "markdown",
      "metadata": {
        "id": "M6mjm6O86EZt"
      },
      "source": [
        "### Training the model for the \"JOY\" category"
      ]
    },
    {
      "cell_type": "code",
      "metadata": {
        "colab": {
          "base_uri": "https://localhost:8080/"
        },
        "id": "QajwAMtg3Cwp",
        "outputId": "75a1ff98-4514-45bf-b3d8-c4f99f21f01c"
      },
      "source": [
        "joyModel.train()"
      ],
      "execution_count": 9,
      "outputs": [
        {
          "output_type": "stream",
          "text": [
            "Epoch 1/64\n",
            "3388/3388 [==============================] - 55s 16ms/step - loss: 1.8463 - val_loss: 1.6239\n",
            "Epoch 2/64\n",
            "3388/3388 [==============================] - 53s 16ms/step - loss: 1.6605 - val_loss: 1.5641\n",
            "Epoch 3/64\n",
            "3388/3388 [==============================] - 54s 16ms/step - loss: 1.6237 - val_loss: 1.5712\n",
            "Epoch 4/64\n",
            "3388/3388 [==============================] - 54s 16ms/step - loss: 1.6049 - val_loss: 1.5593\n",
            "Epoch 5/64\n",
            "3388/3388 [==============================] - 53s 16ms/step - loss: 1.5943 - val_loss: 1.5501\n",
            "Epoch 6/64\n",
            "3388/3388 [==============================] - 53s 16ms/step - loss: 1.5875 - val_loss: 1.5513\n",
            "Epoch 7/64\n",
            "3388/3388 [==============================] - 53s 16ms/step - loss: 1.5839 - val_loss: 1.5273\n",
            "Epoch 8/64\n",
            "3388/3388 [==============================] - 53s 16ms/step - loss: 1.5818 - val_loss: 1.5172\n",
            "Epoch 9/64\n",
            "3388/3388 [==============================] - 53s 16ms/step - loss: 1.5812 - val_loss: 1.5213\n",
            "Epoch 10/64\n",
            "3388/3388 [==============================] - 54s 16ms/step - loss: 1.5822 - val_loss: 1.5443\n",
            "Epoch 11/64\n",
            "3388/3388 [==============================] - 54s 16ms/step - loss: 1.5398 - val_loss: 1.5037\n",
            "Epoch 12/64\n",
            "3388/3388 [==============================] - 53s 16ms/step - loss: 1.5201 - val_loss: 1.5074\n",
            "Epoch 13/64\n",
            "3388/3388 [==============================] - 54s 16ms/step - loss: 1.5106 - val_loss: 1.5021\n",
            "Epoch 14/64\n",
            "3388/3388 [==============================] - 54s 16ms/step - loss: 1.5032 - val_loss: 1.4891\n",
            "Epoch 15/64\n",
            "3388/3388 [==============================] - 54s 16ms/step - loss: 1.4978 - val_loss: 1.5004\n",
            "Epoch 16/64\n",
            "3388/3388 [==============================] - 54s 16ms/step - loss: 1.4928 - val_loss: 1.4843\n",
            "Epoch 17/64\n",
            "3388/3388 [==============================] - 54s 16ms/step - loss: 1.4883 - val_loss: 1.4981\n",
            "Epoch 18/64\n",
            "3388/3388 [==============================] - 54s 16ms/step - loss: 1.4847 - val_loss: 1.4811\n",
            "Epoch 19/64\n",
            "3388/3388 [==============================] - 54s 16ms/step - loss: 1.4811 - val_loss: 1.4946\n",
            "Epoch 20/64\n",
            "3388/3388 [==============================] - 54s 16ms/step - loss: 1.4780 - val_loss: 1.4854\n",
            "Epoch 21/64\n",
            "3388/3388 [==============================] - 54s 16ms/step - loss: 1.4700 - val_loss: 1.4824\n",
            "Epoch 22/64\n",
            "3388/3388 [==============================] - 54s 16ms/step - loss: 1.4676 - val_loss: 1.4850\n"
          ],
          "name": "stdout"
        }
      ]
    },
    {
      "cell_type": "markdown",
      "metadata": {
        "id": "oRVSJrQdp-4p"
      },
      "source": [
        "### Visualizing the Loss"
      ]
    },
    {
      "cell_type": "code",
      "metadata": {
        "id": "NlK4NiLpqFAc",
        "colab": {
          "base_uri": "https://localhost:8080/",
          "height": 295
        },
        "outputId": "7cd68254-03f5-455c-b586-20e1bdf0ee48"
      },
      "source": [
        "joyModel.plot_loss(\"Joy\")"
      ],
      "execution_count": 10,
      "outputs": [
        {
          "output_type": "display_data",
          "data": {
            "image/png": "[encoded data removed]",
            "text/plain": [
              "<Figure size 432x288 with 1 Axes>"
            ]
          },
          "metadata": {
            "tags": [],
            "needs_background": "light"
          }
        }
      ]
    },
    {
      "cell_type": "markdown",
      "metadata": {
        "id": "piSj9l-iTijr"
      },
      "source": [
        "#### Generating New Poems"
      ]
    },
    {
      "cell_type": "code",
      "metadata": {
        "id": "W5brb4HFdLil"
      },
      "source": [
        "# Because we trained the model using batch sizes specified in the\n",
        "# BATCH_SIZE variable, using the original model will also require\n",
        "# inputs of BATCH_SIZE in order to make a prediction. Because of that,\n",
        "# we must create a new model whose batch_size is set to 1, and copy\n",
        "# the weights from the original model into this prediction model.\n",
        "joyModelPredictor = GeneratorModel(joyModel)"
      ],
      "execution_count": 11,
      "outputs": []
    },
    {
      "cell_type": "code",
      "metadata": {
        "id": "-L2SK6OEdXaw",
        "colab": {
          "base_uri": "https://localhost:8080/"
        },
        "outputId": "d7ade608-2a7e-4e4b-ac8d-e485c40e691c"
      },
      "source": [
        "poem = joyModelPredictor.generate(u\"Love is\", 200, temperature=0.75)\n",
        "print(poem)"
      ],
      "execution_count": 13,
      "outputs": [
        {
          "output_type": "stream",
          "text": [
            "Love is the soul with ye sipped, Though in the Sunday loth we said nothing. It is a poem\n",
            "in dusk and then, a little sphere, The great glance of things could not care\n",
            "To drink of some way to scorn the huge fa\n"
          ],
          "name": "stdout"
        }
      ]
    }
  ]
}