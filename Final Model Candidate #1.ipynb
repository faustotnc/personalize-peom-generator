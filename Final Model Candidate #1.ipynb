{
  "nbformat": 4,
  "nbformat_minor": 0,
  "metadata": {
    "colab": {
      "name": "TF - Baseline Model.ipynb",
      "provenance": [],
      "collapsed_sections": [],
      "toc_visible": true
    },
    "kernelspec": {
      "name": "python3",
      "display_name": "Python 3"
    },
    "accelerator": "GPU"
  },
  "cells": [
    {
      "cell_type": "code",
      "metadata": {
        "id": "w5NqMo9Baajr"
      },
      "source": [
        "import os\n",
        "# Prevent kernel from dying\n",
        "os.environ[\"KMP_DUPLICATE_LIB_OK\"] = \"True\"\n",
        "\n",
        "import numpy as np\n",
        "import pandas as pd\n",
        "import matplotlib.pyplot as plt\n",
        "import nltk\n",
        "from nltk.util import ngrams\n",
        "import string, time, math, random, sys, io"
      ],
      "execution_count": 1,
      "outputs": []
    },
    {
      "cell_type": "markdown",
      "metadata": {
        "id": "--DWM4QS4XGi"
      },
      "source": [
        "# Importing Tensorflow and Keras"
      ]
    },
    {
      "cell_type": "code",
      "metadata": {
        "id": "Nasv0h6EauKf"
      },
      "source": [
        "from tensorflow import keras\n",
        "from tensorflow.keras import layers\n",
        "import tensorflow as tf\n",
        "from tensorflow.python.keras.utils.data_utils import Sequence"
      ],
      "execution_count": 2,
      "outputs": []
    },
    {
      "cell_type": "markdown",
      "metadata": {
        "id": "Y4tZ5YVh4c9U"
      },
      "source": [
        "# Loading the Raw Data"
      ]
    },
    {
      "cell_type": "code",
      "metadata": {
        "id": "ixjGMzHFayMs"
      },
      "source": [
        "# from google.colab import drive\n",
        "# drive.mount('/content/drive')\n",
        "\n",
        "# Reads the data\n",
        "labeledPfd = pd.read_csv(\"/content/drive/MyDrive/LabeledPoetryFoundationPoems.csv\")\n",
        "labeledPfd = labeledPfd.sample(frac=1) # randomizes the data\n",
        "\n",
        "# Filters the poems by category\n",
        "def get_poems_by_category(category):\n",
        "    data = []\n",
        "    for poem, emotion in zip(labeledPfd[\"poem\"], labeledPfd[\"emotion\"]):\n",
        "        if emotion == category:\n",
        "            data.append(poem)\n",
        "    return data\n",
        "\n",
        "\n",
        "# Gets the poems in each category\n",
        "poems = {\n",
        "    \"joy\": get_poems_by_category(\"joy\"),\n",
        "    \"trust\": get_poems_by_category(\"trust\"),\n",
        "    \"sadness\": get_poems_by_category(\"sadness\"),\n",
        "    \"anticipation\": get_poems_by_category(\"anticipation\"),\n",
        "    \"fear\": get_poems_by_category(\"fear\"),\n",
        "    \"anger\": get_poems_by_category(\"anger\"),\n",
        "    \"disgust\": get_poems_by_category(\"disgust\"),\n",
        "    \"surprise\": get_poems_by_category(\"surprise\")\n",
        "}"
      ],
      "execution_count": 3,
      "outputs": []
    },
    {
      "cell_type": "markdown",
      "metadata": {
        "id": "-UN86XON4hpz"
      },
      "source": [
        "# Processing the Data\n",
        "\n",
        "In this cell, the data is processed into tokens that can be inputted into the model. Here we also create the input-output pair batches that will be used to train, validate, and evaluate, the model."
      ]
    },
    {
      "cell_type": "code",
      "metadata": {
        "id": "G5WSxjHNbIyC"
      },
      "source": [
        "punctuation = \" .,'();?!:-\\\"\\n\\t\"\n",
        "digits = \"0123456789\"\n",
        "valid_chars = string.ascii_letters + punctuation + digits\n",
        "\n",
        "# The maximum size of a sequence that\n",
        "# can be inputted into the network\n",
        "seq_len = 48\n",
        "\n",
        "class DataProcessor:\n",
        "    def __init__(self, dataset, batch_size=32):\n",
        "        full_data = list(dataset)\n",
        "\n",
        "        # Splits the data into training and testing sets\n",
        "        tenPercent = math.ceil(len(full_data) * 0.1)\n",
        "        self.test_set = full_data[:tenPercent]\n",
        "        full_data = full_data[tenPercent:]\n",
        "\n",
        "        # Cleans the data by removing\n",
        "        # punctuation from the dataset\n",
        "        self.clean_data = self.data_cleaner(full_data)\n",
        "        print(\"Number of characters:\", len(self.clean_data))\n",
        "\n",
        "        # Extracts the vocabulary\n",
        "        self.vocab = set(self.clean_data)\n",
        "        self.voc_len = len(self.vocab)\n",
        "        print(\"Vocabulary size:\", self.voc_len)\n",
        "\n",
        "        # Encodes the position of each word in the vocabulary\n",
        "        self.char2idx = {word: i for i, word in enumerate(self.vocab)}\n",
        "        self.idx2char = np.array(list(self.vocab))\n",
        "\n",
        "        # Transforms the entire text into integers\n",
        "        text_as_int = np.array([self.char2idx[c] for c in self.clean_data])\n",
        "\n",
        "        # Create training examples / targets\n",
        "        char_dataset = tf.data.Dataset.from_tensor_slices(text_as_int)\n",
        "        sequences = char_dataset.batch(seq_len+1, drop_remainder=True)\n",
        "\n",
        "        self.dataset = sequences.map(self.split_input_target)\n",
        "\n",
        "        print(\"\\nExample Input-Target pair:\")\n",
        "        for input_example, target_example in self.dataset.take(1):\n",
        "            print('Input data: ', repr(''.join(self.idx2char[input_example.numpy()])))\n",
        "            print('Target data:', repr(''.join(self.idx2char[target_example.numpy()])))\n",
        "\n",
        "        # Buffer size to shuffle the dataset\n",
        "        # (TF data is designed to work with possibly infinite sequences,\n",
        "        # so it doesn't attempt to shuffle the entire sequence in memory. Instead,\n",
        "        # it maintains a buffer in which it shuffles elements).\n",
        "        BUFFER_SIZE = 10000\n",
        "        self.dataset = self.dataset.shuffle(BUFFER_SIZE).batch(\n",
        "            batch_size,\n",
        "            drop_remainder=True\n",
        "        )\n",
        "        print(\"\\n\")\n",
        "        print(self.dataset)\n",
        "\n",
        "        fivePercent = math.ceil(len(dataset) * 0.1)\n",
        "        self.val_inps = []\n",
        "        self.val_tars = []\n",
        "        val = self.dataset.take(fivePercent)\n",
        "        self.dataset = self.dataset.skip(fivePercent)\n",
        "        for val_inp, val_tar in val:\n",
        "            self.val_inps.append(val_inp)\n",
        "            self.val_tars.append(val_tar)\n",
        "\n",
        "\n",
        "    def data_cleaner(self, poem_list):\n",
        "        clean_data = []\n",
        "        \n",
        "        for poem in poem_list:\n",
        "            # Adds the \"poem start\" symbol\n",
        "            clean_data.append(\"<\")\n",
        "\n",
        "            for char in list(poem):\n",
        "                prevChar = clean_data[len(clean_data) - 1]\n",
        "                if (char in valid_chars):\n",
        "                    if (char == \"\\n\" and prevChar == \"\\n\"):\n",
        "                        pass\n",
        "                    else:\n",
        "                        clean_data.append(char)\n",
        "\n",
        "            # Adds the \"poem end\" symbol\n",
        "            clean_data.append(\">\\n\")\n",
        "        \n",
        "        return clean_data\n",
        "\n",
        "    def split_input_target(self, chunk):\n",
        "        input_text = chunk[:-1]\n",
        "        target_text = chunk[1:]\n",
        "        return input_text, target_text"
      ],
      "execution_count": 4,
      "outputs": []
    },
    {
      "cell_type": "markdown",
      "metadata": {
        "id": "XkL3UiJ249KS"
      },
      "source": [
        "# The Model Base Classes\n",
        "\n",
        "In the next two blocks we define the `PoemModel` class and the `GeneratorModel` class. With these two classes we are able to reuse the same code for training multiple models and generating poems."
      ]
    },
    {
      "cell_type": "markdown",
      "metadata": {
        "id": "HI47if0iMSm6"
      },
      "source": [
        "#### The Class for Training the Models"
      ]
    },
    {
      "cell_type": "code",
      "metadata": {
        "id": "sHKFig63cH__"
      },
      "source": [
        "class PoemModel:\n",
        "    def __init__(self, data, batch_size=32, weights=None, print_summary=False):\n",
        "        \"\"\"\n",
        "        Creates a trainable model.\n",
        "        ::data - An instance of the `DataProcessor` class.\n",
        "        ::batch_size - The size of the batches used for training the model. 32\n",
        "            by default.\n",
        "        ::weights - When this class is used for prediction, a set of weights\n",
        "            must be provided from another model which was used for training.\n",
        "        \"\"\"\n",
        "\n",
        "        self.data = data\n",
        "        self.history = None\n",
        "\n",
        "        # Global Hyperparameters\n",
        "        self.recurrent_units = 832\n",
        "        self.embedding_size = 128\n",
        "        self.dropout_rate = 0.2\n",
        "        self.n_epochs = 64\n",
        "        self.optimizer = keras.optimizers.RMSprop()\n",
        "        self.loss_function = lambda labels, logits: keras.losses.sparse_categorical_crossentropy(\n",
        "            labels, logits, from_logits=True\n",
        "        )\n",
        "\n",
        "        # Model-Specific Hyperparameters\n",
        "        self.batch_size = batch_size\n",
        "        self.weights = weights\n",
        "\n",
        "        # Creates the model\n",
        "        self.model = self.__createModel()\n",
        "        if (print_summary): self.model.summary()\n",
        "\n",
        "\n",
        "    def train(self):\n",
        "        \"\"\"\n",
        "        Trains the model using the provided data under the GPU\n",
        "        provided by Google Colab.\n",
        "        \"\"\"\n",
        "        with tf.device('/device:GPU:0'):\n",
        "            model_callbacks = [\n",
        "                # Reduces the learning rate if the model is having trouble\n",
        "                # learning the data. This is applied after two epochs with\n",
        "                # no improvement to the model's loss.\n",
        "                tf.keras.callbacks.ReduceLROnPlateau(patience=2),\n",
        "                # If even after reducing the learning rate the model still does\n",
        "                # not improve, after 5 epochs of non-improving loss, the model\n",
        "                # halts the training process.\n",
        "                tf.keras.callbacks.EarlyStopping(patience=4)\n",
        "            ]\n",
        "\n",
        "            self.history = self.model.fit(\n",
        "                self.data.dataset,\n",
        "                epochs=self.n_epochs,\n",
        "                callbacks=model_callbacks,\n",
        "                validation_data=(self.data.val_inps, self.data.val_tars)\n",
        "            )\n",
        "\n",
        "\n",
        "    def plot_loss(self, name):\n",
        "        if (self.history != None):\n",
        "            plt.plot(self.history.history['loss'])\n",
        "            plt.plot(self.history.history['val_loss'])\n",
        "            plt.title('Metrics for ' + name + ' model')\n",
        "            plt.ylabel('loss')\n",
        "            plt.xlabel('epoch')\n",
        "            plt.legend(['train', 'test'], loc='upper left')\n",
        "            plt.show()\n",
        "        else:\n",
        "            print(\"The model must be trained before the loss can be plotted.\")\n",
        "\n",
        "\n",
        "    def __createModel(self):\n",
        "        \"\"\"\n",
        "        Creates an new sequential model with the specified\n",
        "        hyperpearameters. If a set of weights (from anothe model)\n",
        "        were provided, those weights are set for this model.\n",
        "        \"\"\"\n",
        "        model = keras.models.Sequential([\n",
        "            layers.Embedding(\n",
        "                self.data.voc_len,\n",
        "                self.embedding_size,\n",
        "                batch_input_shape=(self.batch_size, seq_len),\n",
        "                name=\"EMBEDDING_layer\"\n",
        "            ),\n",
        "            layers.Dense(self.data.voc_len, activation=\"tanh\", name=\"TANH_layer\"),\n",
        "            layers.GRU(\n",
        "                self.recurrent_units,\n",
        "                stateful=True,\n",
        "                return_sequences=True,\n",
        "                recurrent_initializer='glorot_uniform',\n",
        "                name=\"GRU_layer\"\n",
        "            ),\n",
        "            layers.Dropout(self.dropout_rate),\n",
        "            layers.Dense(self.data.voc_len, name=\"OUTPUT_layer\")\n",
        "        ])\n",
        "        \n",
        "        # If no wights were loaded into this model, we create a\n",
        "        # new model from scratch. Otherwise we set the provided\n",
        "        # wights into this model.\n",
        "        if (self.weights == None):\n",
        "            model.compile(loss=self.loss_function, optimizer=self.optimizer)\n",
        "        else:\n",
        "            model.set_weights(self.weights)\n",
        "        \n",
        "        # Returns the created model\n",
        "        return model"
      ],
      "execution_count": 5,
      "outputs": []
    },
    {
      "cell_type": "markdown",
      "metadata": {
        "id": "8rOp56EuMXr9"
      },
      "source": [
        "#### The Class for Generating New Poems"
      ]
    },
    {
      "cell_type": "code",
      "metadata": {
        "id": "qgjrNWrHMad2"
      },
      "source": [
        "class GeneratorModel:\n",
        "    def __init__(self, trainedModel):\n",
        "        self.trainedModel = trainedModel\n",
        "\n",
        "        self.model = PoemModel(\n",
        "            self.trainedModel.data,\n",
        "            batch_size=1,\n",
        "            # Copies the trained weights into this model\n",
        "            weights=trainedModel.model.get_weights()\n",
        "        )\n",
        "\n",
        "\n",
        "    def generate(self, start_string, out_len, temperature=0.5):\n",
        "        \"\"\"\n",
        "        Generates a new poem from the specified starting string.\n",
        "        ::start_string - A seed string used for generating the new poem.\n",
        "        ::out_len - The size (in characters) of the generated poem.\n",
        "        ::temperature - The diversity of the generated text. If the number is\n",
        "            low, the generated setences will look similar to the sentences it has\n",
        "            seen before. If the number is high, the sentences will be more\n",
        "            \"original\" (but may not look as perfect).\n",
        "        \"\"\"\n",
        "        # Converting our start string to numbers (vectorizing)\n",
        "        input_eval = [self.trainedModel.data.char2idx[s] for s in start_string]\n",
        "        input_eval = tf.expand_dims(input_eval, 0)\n",
        "\n",
        "        # Empty string to store our results\n",
        "        text_generated = []\n",
        "\n",
        "        # Here batch size == 1\n",
        "        # model.reset_states()\n",
        "        for i in range(out_len):\n",
        "            predictions = self.model.model(input_eval)\n",
        "            # remove the batch dimension\n",
        "            predictions = tf.squeeze(predictions, 0)\n",
        "\n",
        "            # using a categorical distribution to predict\n",
        "            # the character returned by the model\n",
        "            predictions = predictions / temperature\n",
        "            predicted_id = tf.random.categorical(predictions, num_samples=1)[-1,0].numpy()\n",
        "\n",
        "            # Pass the predicted character as the next input to the model\n",
        "            # along with the previous hidden state\n",
        "            input_eval = tf.expand_dims([predicted_id], 0)\n",
        "\n",
        "            predicted_char = self.trainedModel.data.idx2char[predicted_id]\n",
        "\n",
        "            if predicted_char == \">\":\n",
        "                print(\"FOUND POEM END!!!\")\n",
        "                break\n",
        "            else:\n",
        "                text_generated.append(predicted_char)\n",
        "\n",
        "        return (start_string + ''.join(text_generated))"
      ],
      "execution_count": 6,
      "outputs": []
    },
    {
      "cell_type": "markdown",
      "metadata": {
        "id": "U5cTaROq5SQZ"
      },
      "source": [
        "# The Model for the \"JOY\" Category"
      ]
    },
    {
      "cell_type": "markdown",
      "metadata": {
        "id": "M0tbCizj5wQw"
      },
      "source": [
        "### Processing the Data for the \"JOY\" dataset"
      ]
    },
    {
      "cell_type": "code",
      "metadata": {
        "colab": {
          "base_uri": "https://localhost:8080/"
        },
        "id": "d1Pokz0vcPez",
        "outputId": "bfa29a1d-fc3e-4768-85d5-e73d612cb4b1"
      },
      "source": [
        "BATCH_SIZE = 32\n",
        "joyData = DataProcessor(poems[\"joy\"], batch_size=BATCH_SIZE)"
      ],
      "execution_count": 7,
      "outputs": [
        {
          "output_type": "stream",
          "text": [
            "Number of characters: 5961885\n",
            "Vocabulary size: 77\n",
            "\n",
            "Example Input-Target pair:\n",
            "Input data:  '<\\nLight at each point was beating then to flight,\\nThe sapling ba'\n",
            "Target data: '\\nLight at each point was beating then to flight,\\nThe sapling bar'\n",
            "\n",
            "\n",
            "<BatchDataset shapes: ((32, 64), (32, 64)), types: (tf.int64, tf.int64)>\n"
          ],
          "name": "stdout"
        }
      ]
    },
    {
      "cell_type": "markdown",
      "metadata": {
        "id": "iAgTpuAN55G2"
      },
      "source": [
        "### Defining the model for the \"JOY\" category"
      ]
    },
    {
      "cell_type": "code",
      "metadata": {
        "colab": {
          "base_uri": "https://localhost:8080/"
        },
        "id": "-3kah-nB1sEe",
        "outputId": "f6de61a2-f847-4f1c-ae03-c52da368949a"
      },
      "source": [
        "joyModel = PoemModel(joyData, batch_size=BATCH_SIZE, print_summary=True)"
      ],
      "execution_count": 8,
      "outputs": [
        {
          "output_type": "stream",
          "text": [
            "Model: \"sequential\"\n",
            "_________________________________________________________________\n",
            "Layer (type)                 Output Shape              Param #   \n",
            "=================================================================\n",
            "EMBEDDING_layer (Embedding)  (32, 64, 128)             9856      \n",
            "_________________________________________________________________\n",
            "TANH_layer (Dense)           (32, 64, 77)              9933      \n",
            "_________________________________________________________________\n",
            "GRU_layer (GRU)              (32, 64, 832)             2273856   \n",
            "_________________________________________________________________\n",
            "dropout (Dropout)            (32, 64, 832)             0         \n",
            "_________________________________________________________________\n",
            "OUTPUT_layer (Dense)         (32, 64, 77)              64141     \n",
            "=================================================================\n",
            "Total params: 2,357,786\n",
            "Trainable params: 2,357,786\n",
            "Non-trainable params: 0\n",
            "_________________________________________________________________\n"
          ],
          "name": "stdout"
        }
      ]
    },
    {
      "cell_type": "markdown",
      "metadata": {
        "id": "M6mjm6O86EZt"
      },
      "source": [
        "### Training the model for the \"JOY\" category"
      ]
    },
    {
      "cell_type": "code",
      "metadata": {
        "colab": {
          "base_uri": "https://localhost:8080/"
        },
        "id": "QajwAMtg3Cwp",
        "outputId": "a4fef3f9-ab0f-4e91-b231-ab8b3e4ff1d1"
      },
      "source": [
        "joyModel.train()"
      ],
      "execution_count": 9,
      "outputs": [
        {
          "output_type": "stream",
          "text": [
            "Epoch 1/64\n",
            "2437/2437 [==============================] - 130s 53ms/step - loss: 1.8528 - val_loss: 1.6060\n",
            "Epoch 2/64\n",
            "2437/2437 [==============================] - 124s 51ms/step - loss: 1.6394 - val_loss: 1.5716\n",
            "Epoch 3/64\n",
            "2437/2437 [==============================] - 128s 52ms/step - loss: 1.5959 - val_loss: 1.5260\n",
            "Epoch 4/64\n",
            "2437/2437 [==============================] - 124s 51ms/step - loss: 1.5738 - val_loss: 1.5188\n",
            "Epoch 5/64\n",
            "2437/2437 [==============================] - 127s 52ms/step - loss: 1.5590 - val_loss: 1.5157\n",
            "Epoch 6/64\n",
            "2437/2437 [==============================] - 125s 51ms/step - loss: 1.5501 - val_loss: 1.5022\n",
            "Epoch 7/64\n",
            "2437/2437 [==============================] - 128s 53ms/step - loss: 1.5437 - val_loss: 1.5087\n",
            "Epoch 8/64\n",
            "2437/2437 [==============================] - 125s 51ms/step - loss: 1.5398 - val_loss: 1.5017\n",
            "Epoch 9/64\n",
            "2437/2437 [==============================] - 128s 53ms/step - loss: 1.5365 - val_loss: 1.4896\n",
            "Epoch 10/64\n",
            "2437/2437 [==============================] - 125s 51ms/step - loss: 1.5351 - val_loss: 1.4975\n",
            "Epoch 11/64\n",
            "2437/2437 [==============================] - 128s 53ms/step - loss: 1.5344 - val_loss: 1.4992\n",
            "Epoch 12/64\n",
            "2437/2437 [==============================] - 126s 52ms/step - loss: 1.4921 - val_loss: 1.4602\n",
            "Epoch 13/64\n",
            "2437/2437 [==============================] - 128s 53ms/step - loss: 1.4734 - val_loss: 1.4476\n",
            "Epoch 14/64\n",
            "2437/2437 [==============================] - 125s 51ms/step - loss: 1.4655 - val_loss: 1.4749\n",
            "Epoch 15/64\n",
            "2437/2437 [==============================] - 128s 53ms/step - loss: 1.4590 - val_loss: 1.4630\n",
            "Epoch 16/64\n",
            "2437/2437 [==============================] - 126s 52ms/step - loss: 1.4496 - val_loss: 1.4722\n",
            "Epoch 17/64\n",
            "2437/2437 [==============================] - 128s 53ms/step - loss: 1.4475 - val_loss: 1.4528\n"
          ],
          "name": "stdout"
        }
      ]
    },
    {
      "cell_type": "markdown",
      "metadata": {
        "id": "oRVSJrQdp-4p"
      },
      "source": [
        "### Visualizing the Loss"
      ]
    },
    {
      "cell_type": "code",
      "metadata": {
        "id": "NlK4NiLpqFAc",
        "colab": {
          "base_uri": "https://localhost:8080/",
          "height": 295
        },
        "outputId": "2578face-086f-45c9-df04-d9a0c6742b29"
      },
      "source": [
        "joyModel.plot_loss(\"Joy\")"
      ],
      "execution_count": 10,
      "outputs": [
        {
          "output_type": "display_data",
          "data": {
            "image/png": "[encoded data removed]",
            "text/plain": [
              "<Figure size 432x288 with 1 Axes>"
            ]
          },
          "metadata": {
            "tags": [],
            "needs_background": "light"
          }
        }
      ]
    },
    {
      "cell_type": "markdown",
      "metadata": {
        "id": "piSj9l-iTijr"
      },
      "source": [
        "#### Generating New Poems"
      ]
    },
    {
      "cell_type": "code",
      "metadata": {
        "id": "W5brb4HFdLil"
      },
      "source": [
        "# Because we trained the model using batch sizes specified in the\n",
        "# BATCH_SIZE variable, using the original model will also require\n",
        "# inputs of BATCH_SIZE in order to make a prediction. Because of that,\n",
        "# we must create a new model whose batch_size is set to 1, and copy\n",
        "# the weights from the original model into this prediction model.\n",
        "joyModelPredictor = GeneratorModel(joyModel)"
      ],
      "execution_count": 11,
      "outputs": []
    },
    {
      "cell_type": "code",
      "metadata": {
        "id": "-L2SK6OEdXaw",
        "colab": {
          "base_uri": "https://localhost:8080/"
        },
        "outputId": "8f5396c5-6b65-4386-c8b2-e01febe9c5b5"
      },
      "source": [
        "poem = joyModelPredictor.generate(u\"Love is\", 200, temperature=0.6)\n",
        "print(poem)"
      ],
      "execution_count": 12,
      "outputs": [
        {
          "output_type": "stream",
          "text": [
            "Love is fair and rain of my soul and kind,\n",
            "But thou wast seen and make it the soul to work, And remember in the morning dreaming of the thing to come in the west of the distance                              \n"
          ],
          "name": "stdout"
        }
      ]
    }
  ]
}