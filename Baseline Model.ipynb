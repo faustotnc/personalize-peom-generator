{
 "cells": [
  {
   "cell_type": "code",
   "execution_count": 1,
   "metadata": {},
   "outputs": [
    {
     "name": "stderr",
     "output_type": "stream",
     "text": [
      "/Users/faustotnc/.pyenv/versions/3.8.5/lib/python3.8/site-packages/pandas/compat/__init__.py:120: UserWarning: Could not import the lzma module. Your installed Python is incomplete. Attempting to use lzma compression will result in a RuntimeError.\n",
      "  warnings.warn(msg)\n"
     ]
    }
   ],
   "source": [
    "import numpy as np\n",
    "import pandas as pd\n",
    "import matplotlib.pyplot as plt\n",
    "import nltk\n",
    "from nltk.util import ngrams\n",
    "import string\n",
    "import unidecode\n",
    "import time, math\n",
    "import random\n",
    "\n",
    "# Used by the model\n",
    "import torch\n",
    "import torch.nn as nn\n",
    "from torch.autograd import Variable\n",
    "from rouge import Rouge\n",
    "from nltk.translate.bleu_score import corpus_bleu\n",
    "\n",
    "# For plotting\n",
    "import matplotlib.pyplot as plt\n",
    "import matplotlib.ticker as ticker\n",
    "%matplotlib inline\n",
    "\n",
    "# Prevent kernel from dying\n",
    "import os\n",
    "os.environ[\"KMP_DUPLICATE_LIB_OK\"] = \"True\""
   ]
  },
  {
   "cell_type": "markdown",
   "metadata": {},
   "source": [
    "# Loading The Data"
   ]
  },
  {
   "cell_type": "code",
   "execution_count": 2,
   "metadata": {},
   "outputs": [],
   "source": [
    "# Reads the data\n",
    "labeledPfd = pd.read_csv(\"./datasets/LabeledPoetryFoundationPoems.csv\")\n",
    "labeledPfd = labeledPfd.sample(frac=1) # randomizes the data\n",
    "\n",
    "# Filters the poems by category\n",
    "def get_poems_by_category(category):\n",
    "    data = []\n",
    "    for poem, emotion in zip(labeledPfd[\"poem\"], labeledPfd[\"emotion\"]):\n",
    "        if emotion == category:\n",
    "            data.append(poem)\n",
    "    return data\n",
    "\n",
    "\n",
    "# Gets the poems in each category\n",
    "poems = {\n",
    "    \"joy\": get_poems_by_category(\"joy\"),\n",
    "    \"trust\": get_poems_by_category(\"trust\"),\n",
    "    \"sadness\": get_poems_by_category(\"sadness\"),\n",
    "    \"anticipation\": get_poems_by_category(\"anticipation\"),\n",
    "    \"fear\": get_poems_by_category(\"fear\"),\n",
    "    \"anger\": get_poems_by_category(\"anger\"),\n",
    "    \"disgust\": get_poems_by_category(\"disgust\"),\n",
    "    \"surprise\": get_poems_by_category(\"surprise\")\n",
    "}"
   ]
  },
  {
   "cell_type": "markdown",
   "metadata": {},
   "source": [
    "# Processing the Data"
   ]
  },
  {
   "cell_type": "markdown",
   "metadata": {},
   "source": [
    "## The Batch Generator"
   ]
  },
  {
   "cell_type": "code",
   "execution_count": 3,
   "metadata": {},
   "outputs": [],
   "source": [
    "class BatchGenerator(torch.utils.data.Dataset):\n",
    "    def __init__(self, inputs, targets):\n",
    "        self.inputs = inputs\n",
    "        self.outputs = targets\n",
    "    \n",
    "    def __len__(self):\n",
    "        return len(self.inputs)\n",
    "    \n",
    "    def __getitem__(self, index):\n",
    "        return self.inputs[index], self.outputs[index]"
   ]
  },
  {
   "cell_type": "markdown",
   "metadata": {},
   "source": [
    "## The Data Processor"
   ]
  },
  {
   "cell_type": "code",
   "execution_count": 4,
   "metadata": {},
   "outputs": [],
   "source": [
    "punctuation = \" .,;?\\\"\\n\"\n",
    "class DataProcessor:\n",
    "    def __init__(self, dataset, batch_size=48):\n",
    "        full_data = list(dataset)\n",
    "        \n",
    "        # first 20% as test data\n",
    "        twentyPercent = math.ceil(len(full_data) * 0.2)\n",
    "        self.test_set = full_data[:twentyPercent]\n",
    "        # last 80% as train data\n",
    "        eigtyPercent = math.floor(len(full_data) * 0.8)\n",
    "        full_data = full_data[-eigtyPercent:]\n",
    "\n",
    "        def joinStrings(text):\n",
    "            return '\\n'.join(string for string in text)\n",
    "        full_data = joinStrings(full_data)\n",
    "\n",
    "        # Clean the data\n",
    "        # Removes punctuation from the dataset\n",
    "        self.clean_data = [word for word in nltk.word_tokenize(full_data) if (word.isalnum() or word in punctuation)]\n",
    "        # print(\"Number of tokens:\", len(clean_data)) # Number of tokens\n",
    "        # print(clean_data[:10])\n",
    "\n",
    "        # Extracts the vocabulary\n",
    "        self.vocab = set(self.clean_data)\n",
    "        self.voc_len = len(self.vocab)\n",
    "\n",
    "        # Encodes the position of each word in the vocabulary\n",
    "        self.word_to_ix = {word: i for i, word in enumerate(self.vocab)}\n",
    "\n",
    "        # Generates trigram word embeddings\n",
    "        # with the data. For the sentence:\n",
    "        # \"I party with my friends on the weekends\"\n",
    "        # \"with\", and \"my\" will be the context for\n",
    "        # the word \"friends\". An example is printed bellow\n",
    "        self.embeddings = [\n",
    "            ([trigram[0], trigram[1]], trigram[2]) for trigram in ngrams(self.clean_data, 3)\n",
    "        ]\n",
    "        self.num_embeddings = len(self.embeddings)\n",
    "        \n",
    "        # Training and Testing sets ready to be used\n",
    "        self.train_set = BatchGenerator(*self.inp_tar_pairs())\n",
    "        \n",
    "    def inp_tar_pairs(self):\n",
    "        inputs = []\n",
    "        targets = []\n",
    "        \n",
    "        for context, target in self.embeddings:\n",
    "            # 2dim tensor with the positions of the context letters\n",
    "            context_idxs = torch.tensor([self.word_to_ix[w] for w in context], dtype=torch.long)\n",
    "            inputs.append(context_idxs)\n",
    "\n",
    "            # 1dim tensor with the position of the target letter\n",
    "            targ = torch.tensor([self.word_to_ix[target]], dtype=torch.long)\n",
    "            targets.append(targ)\n",
    "            \n",
    "        return inputs, targets "
   ]
  },
  {
   "cell_type": "markdown",
   "metadata": {},
   "source": [
    "# The Recurrent Neural Network (GRU)"
   ]
  },
  {
   "cell_type": "code",
   "execution_count": 5,
   "metadata": {},
   "outputs": [],
   "source": [
    "class RNN(nn.Module):\n",
    "    def __init__(self, input_size, hidden_size, output_size, n_layers=1):\n",
    "        super(RNN, self).__init__()\n",
    "        self.input_size = input_size\n",
    "        self.hidden_size = hidden_size\n",
    "        self.output_size = output_size\n",
    "        self.n_layers = n_layers\n",
    "        \n",
    "        self.encoder = nn.Embedding(input_size, hidden_size)\n",
    "        \n",
    "        # We are using the GRU method to train the model\n",
    "        self.gru = nn.GRU(\n",
    "            hidden_size * 2,\n",
    "            hidden_size,\n",
    "            n_layers,\n",
    "            batch_first = True, # x: (num_embeddings, context_size, input_size)\n",
    "            bidirectional = False\n",
    "        )\n",
    "        self.decoder = nn.Linear(hidden_size, output_size)\n",
    "    \n",
    "    def forward(self, input_vect, hidden):\n",
    "        input_vect = self.encoder(input_vect.view(1, -1)) # flattens the input vector\n",
    "        output, hidden = self.gru(input_vect.view(1, 1, -1), hidden)\n",
    "        output = self.decoder(output.view(1, -1))\n",
    "        return output, hidden\n",
    "\n",
    "    def init_hidden(self):\n",
    "        return Variable(torch.zeros(self.n_layers, 1, self.hidden_size))\n",
    "    \n",
    "    \n",
    "    def trainer(self, model, train_set):\n",
    "        \"\"\"\n",
    "        Trains the model with the data for\n",
    "        the equivalent of 1 epoch\n",
    "        \"\"\"\n",
    "        \n",
    "        # Initializes the hidden state\n",
    "        hidden = self.init_hidden()\n",
    "\n",
    "        # Initializes the gradients and the loss\n",
    "        self.zero_grad()\n",
    "        loss = 0\n",
    "\n",
    "        # Trains the neural network over all\n",
    "        # the character embeddings\n",
    "        for inp, tar in train_set:\n",
    "            # The model taken in a context tensor, and\n",
    "            # the previous hidden state to predict an\n",
    "            # output, and compute a new hidden state\n",
    "            output, hidden = self.forward(inp, hidden)\n",
    "\n",
    "            # The loss is computed using the predicted output\n",
    "            # and the target (expected output)\n",
    "            loss += model.criterion(output, tar)\n",
    "\n",
    "        # Propagates the loss backwards\n",
    "        # through the network\n",
    "        loss.backward()\n",
    "        model.model_optimizer.step()\n",
    "\n",
    "        # Returns the loss of the network\n",
    "        return loss.data.item() / model.data.num_embeddings"
   ]
  },
  {
   "cell_type": "markdown",
   "metadata": {},
   "source": [
    "# The Model Class"
   ]
  },
  {
   "cell_type": "code",
   "execution_count": 31,
   "metadata": {},
   "outputs": [],
   "source": [
    "class PoemModel:\n",
    "    def __init__(self, data):\n",
    "        self.data = data\n",
    "        \n",
    "        # Model Hyperparameters\n",
    "        self.n_epochs      = 10\n",
    "        self.print_every   = 1\n",
    "        self.plot_every    = 1\n",
    "        self.hidden_size   = 120\n",
    "        self.n_layers      = 3\n",
    "        self.learning_rate = 0.01\n",
    "        self.batch_size    = 32\n",
    "        \n",
    "        # RNN Initialization\n",
    "        self.model = RNN(data.voc_len, self.hidden_size, data.voc_len, self.n_layers)\n",
    "        self.model_optimizer = torch.optim.AdamW(self.model.parameters(), lr=self.learning_rate)\n",
    "        self.criterion = nn.CrossEntropyLoss()\n",
    "    \n",
    "    \n",
    "    def train(self, plot_loss=True):\n",
    "        total_time_start = time.time()\n",
    "        all_losses = []\n",
    "        loss_avg = 0\n",
    "\n",
    "        # Converts the execution time\n",
    "        # to a human-readible format\n",
    "        def time_since(since):\n",
    "            s = time.time() - since\n",
    "            m = math.floor(s / 60)\n",
    "            s -= m * 60\n",
    "            return '%dm %ds' % (m, s)\n",
    "        \n",
    "        print(\"Started training...\")\n",
    "            \n",
    "        # Trains the model.\n",
    "        # n_epochs determines how many times we\n",
    "        # will show the same data to the network.\n",
    "        for epoch in range(1, self.n_epochs + 1):\n",
    "            start = time.time()\n",
    "            \n",
    "            # Divides the entire dataset into [batch_size] batches\n",
    "            training_generator = torch.utils.data.DataLoader(self.data.train_set, \n",
    "                batch_size = self.batch_size,\n",
    "                shuffle = True,\n",
    "            )\n",
    "            training_generator = iter(training_generator)\n",
    "            \n",
    "            # Only trains using [batch_size] of the generated batches.\n",
    "            # So if there were a total of 500 batches, and our batch_size\n",
    "            # equals 20, then it will only train with 20 batches of 20 pairs\n",
    "            batch_index = 0\n",
    "            for index in range(self.batch_size):\n",
    "                batch_index += 1\n",
    "                print(\"Running batch #\" + str(batch_index) + \" out of \" + str(self.batch_size), end=\"\\r\")\n",
    "                \n",
    "                # Trains the model for the\n",
    "                # current epoch\n",
    "                inp, tar = training_generator.next()\n",
    "                loss = self.model.trainer(self, zip(inp, tar))  \n",
    "                loss_avg += loss\n",
    "\n",
    "            # Logs out the epoch execution time\n",
    "            if epoch % self.print_every == 0:\n",
    "                print('Epoch #%d (%d%%) [Exc. Time: %s, Loss: %.4f]' % (\n",
    "                    epoch, epoch / self.n_epochs * 100, time_since(start), loss\n",
    "                ))\n",
    "\n",
    "            # Saves the epoch execution time for later plotting\n",
    "            if epoch % self.plot_every == 0:\n",
    "                all_losses.append(loss_avg / self.plot_every)\n",
    "                loss_avg = 0\n",
    "\n",
    "        # Prints the total time taken by training the model\n",
    "        print(\"\\nTotal training time:\", time_since(total_time_start))\n",
    "        \n",
    "        # Plots the loss\n",
    "        if plot_loss:\n",
    "            plt.figure()\n",
    "            plt.plot(all_losses)\n",
    "        \n",
    "        \n",
    "    def generate(self, prime_str, predict_len=100, temperature=0.8):\n",
    "        hidden = self.model.init_hidden()\n",
    "\n",
    "        for p in range(predict_len):\n",
    "            prime_input = torch.tensor([self.data.word_to_ix[w] for w in prime_str.split()], dtype=torch.long)\n",
    "            inp = prime_input[-2:] #last two words as input\n",
    "            output, hidden = self.model.forward(inp, hidden)\n",
    "\n",
    "            # Sample from the network as a multinomial distribution\n",
    "            output_dist = output.data.view(-1).div(temperature).exp()\n",
    "            top_i = torch.multinomial(output_dist, 1)[0]\n",
    "\n",
    "            # Add predicted word to string and use as next input\n",
    "            predicted_word = list(self.data.word_to_ix.keys())[list(self.data.word_to_ix.values()).index(top_i)]\n",
    "            prime_str += \" \" + predicted_word\n",
    "\n",
    "        return prime_str\n",
    "    \n",
    "    def evaluate_model(self):\n",
    "        rouge = Rouge()\n",
    "        \n",
    "        # Selects the first 10 poems of the\n",
    "        # test set to test the model\n",
    "        first_10 = self.data.test_set[:10]\n",
    "        \n",
    "        # cleans a peom\n",
    "        def clean_poem(poem):\n",
    "            return [word for word in nltk.word_tokenize(poem) if (word.isalnum() and word in self.data.vocab)]\n",
    "        \n",
    "        # list of poems with clean data as hypothesis for ROUGE\n",
    "        rouge_hyp = [\" \".join(clean_poem(poem)) for poem in first_10]\n",
    "        rouge_refs = []\n",
    "        \n",
    "        # list of lists of poems with clean data as hypothesis for BLEU\n",
    "        bleu_references = [clean_poem(poem) for poem in first_10]\n",
    "        bleu_candidates = []\n",
    "\n",
    "        for i in range(10):\n",
    "            first_two_words = \" \".join(rouge_hyp[i].split(\" \")[:2])\n",
    "            gen_poem = self.generate(first_two_words)\n",
    "            gen_poem = [word for word in nltk.word_tokenize(gen_poem)]\n",
    "            \n",
    "            # for rouge\n",
    "            rouge_refs.append(\" \".join(gen_poem))\n",
    "            \n",
    "            # for bleu\n",
    "            bleu_candidates.append(gen_poem)\n",
    "\n",
    "        rouge_scores = rouge.get_scores(rouge_hyp, rouge_refs, avg=True)\n",
    "        print(\"ROUGE SCORE:\", rouge_scores)\n",
    "        \n",
    "        bleu_score = corpus_bleu(bleu_references, bleu_candidates)\n",
    "        print(\"\\nBLEU SCORE:\", bleu_score)"
   ]
  },
  {
   "cell_type": "markdown",
   "metadata": {},
   "source": [
    "# The Model for the \"Joy\" Category"
   ]
  },
  {
   "cell_type": "code",
   "execution_count": 33,
   "metadata": {},
   "outputs": [],
   "source": [
    "joyData = DataProcessor(poems[\"joy\"][:2000])"
   ]
  },
  {
   "cell_type": "code",
   "execution_count": 34,
   "metadata": {},
   "outputs": [
    {
     "name": "stdout",
     "output_type": "stream",
     "text": [
      "Started training...\n",
      "Epoch #1 (10%) [Exc. Time: 0m 20s, Loss: 0.0007]\n",
      "Epoch #2 (20%) [Exc. Time: 0m 20s, Loss: 0.0006]\n",
      "Epoch #3 (30%) [Exc. Time: 0m 20s, Loss: 0.0006]\n",
      "Epoch #4 (40%) [Exc. Time: 0m 20s, Loss: 0.0007]\n",
      "Epoch #5 (50%) [Exc. Time: 0m 20s, Loss: 0.0006]\n",
      "Epoch #6 (60%) [Exc. Time: 0m 20s, Loss: 0.0007]\n",
      "Epoch #7 (70%) [Exc. Time: 0m 20s, Loss: 0.0006]\n",
      "Epoch #8 (80%) [Exc. Time: 0m 20s, Loss: 0.0005]\n",
      "Epoch #9 (90%) [Exc. Time: 0m 20s, Loss: 0.0006]\n",
      "Epoch #10 (100%) [Exc. Time: 0m 20s, Loss: 0.0006]\n",
      "\n",
      "Total training time: 3m 24s\n"
     ]
    },
    {
     "data": {
      "image/png": "[encoded data removed]",
      "text/plain": [
       "<Figure size 432x288 with 1 Axes>"
      ]
     },
     "metadata": {
      "needs_background": "light"
     },
     "output_type": "display_data"
    }
   ],
   "source": [
    "m = PoemModel(joyData)\n",
    "m.train()"
   ]
  },
  {
   "cell_type": "code",
   "execution_count": 35,
   "metadata": {},
   "outputs": [
    {
     "data": {
      "text/plain": [
       "'Oh boy , a thou , goodies canal this she , When , The its they dancers thou the window . in she , be , I , behind There too with would . a falls , fox not , ? . , , . . seemed skin , power love a my the remarkable moonshine of , a , , i all while wine , . How godly , almost , The , and , music call ; snow is . With their thou , by . , d I were a by the they s dark of , The ,'"
      ]
     },
     "execution_count": 35,
     "metadata": {},
     "output_type": "execute_result"
    }
   ],
   "source": [
    "m.generate(\"Oh boy\")"
   ]
  },
  {
   "cell_type": "code",
   "execution_count": 36,
   "metadata": {},
   "outputs": [
    {
     "name": "stdout",
     "output_type": "stream",
     "text": [
      "ROUGE SCORE: {'rouge-1': {'f': 0.1635004547866158, 'p': 0.17920632873518744, 'r': 0.23868681183813734}, 'rouge-2': {'f': 0.011146235234880023, 'p': 0.015257121704565035, 'r': 0.014530968255534182}, 'rouge-l': {'f': 0.14552002342027948, 'p': 0.14526434798716897, 'r': 0.22030759888640442}}\n",
      "\n",
      "BLEU SCORE: 8.003946549955478e-232\n"
     ]
    },
    {
     "name": "stderr",
     "output_type": "stream",
     "text": [
      "/Users/faustotnc/.local/lib/python3.8/site-packages/nltk/translate/bleu_score.py:516: UserWarning: \n",
      "The hypothesis contains 0 counts of 2-gram overlaps.\n",
      "Therefore the BLEU score evaluates to 0, independently of\n",
      "how many N-gram overlaps of lower order it contains.\n",
      "Consider using lower n-gram order or use SmoothingFunction()\n",
      "  warnings.warn(_msg)\n"
     ]
    }
   ],
   "source": [
    "m.evaluate_model()"
   ]
  },
  {
   "cell_type": "code",
   "execution_count": null,
   "metadata": {},
   "outputs": [],
   "source": []
  }
 ],
 "metadata": {
  "kernelspec": {
   "display_name": "Python 3",
   "language": "python",
   "name": "python3"
  },
  "language_info": {
   "codemirror_mode": {
    "name": "ipython",
    "version": 3
   },
   "file_extension": ".py",
   "mimetype": "text/x-python",
   "name": "python",
   "nbconvert_exporter": "python",
   "pygments_lexer": "ipython3",
   "version": "3.8.5"
  }
 },
 "nbformat": 4,
 "nbformat_minor": 4
}
