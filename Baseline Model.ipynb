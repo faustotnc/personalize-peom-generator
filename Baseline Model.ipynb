{
 "cells": [
  {
   "cell_type": "code",
   "execution_count": 1,
   "metadata": {},
   "outputs": [
    {
     "name": "stderr",
     "output_type": "stream",
     "text": [
      "/Users/faustotnc/.pyenv/versions/3.8.5/lib/python3.8/site-packages/pandas/compat/__init__.py:120: UserWarning: Could not import the lzma module. Your installed Python is incomplete. Attempting to use lzma compression will result in a RuntimeError.\n",
      "  warnings.warn(msg)\n"
     ]
    }
   ],
   "source": [
    "import numpy as np\n",
    "import pandas as pd\n",
    "import matplotlib.pyplot as plt\n",
    "import nltk\n",
    "from nltk.util import ngrams\n",
    "import string\n",
    "import unidecode\n",
    "import time, math\n",
    "import random\n",
    "import torch\n",
    "\n",
    "# Used by the model\n",
    "import torch\n",
    "import torch.nn as nn\n",
    "from torch.autograd import Variable\n",
    "\n",
    "\n",
    "# Prevent kernel from dying\n",
    "import os\n",
    "os.environ[\"KMP_DUPLICATE_LIB_OK\"] = \"True\""
   ]
  },
  {
   "cell_type": "markdown",
   "metadata": {},
   "source": [
    "# Loading The Data"
   ]
  },
  {
   "cell_type": "code",
   "execution_count": 2,
   "metadata": {},
   "outputs": [],
   "source": [
    "# Reads the data\n",
    "labeledPfd = pd.read_csv(\"./datasets/LabeledPoetryFoundationPoems.csv\")\n",
    "\n",
    "\n",
    "# Filters the poems by category\n",
    "def get_poems_by_category(category):\n",
    "    data = []\n",
    "    for poem, emotion in zip(labeledPfd[\"poem\"], labeledPfd[\"emotion\"]):\n",
    "        if emotion == category:\n",
    "            data.append(poem)\n",
    "    return data\n",
    "\n",
    "\n",
    "# Gets the poems in each category\n",
    "poems = {\n",
    "    \"joy\": get_poems_by_category(\"joy\"),\n",
    "    \"trust\": get_poems_by_category(\"trust\"),\n",
    "    \"sadness\": get_poems_by_category(\"sadness\"),\n",
    "    \"anticipation\": get_poems_by_category(\"anticipation\"),\n",
    "    \"fear\": get_poems_by_category(\"fear\"),\n",
    "    \"anger\": get_poems_by_category(\"anger\"),\n",
    "    \"disgust\": get_poems_by_category(\"disgust\"),\n",
    "    \"surprise\": get_poems_by_category(\"surprise\")\n",
    "}"
   ]
  },
  {
   "cell_type": "markdown",
   "metadata": {},
   "source": [
    "# Processing the Data"
   ]
  },
  {
   "cell_type": "code",
   "execution_count": 10,
   "metadata": {},
   "outputs": [
    {
     "name": "stdout",
     "output_type": "stream",
     "text": [
      "Number of tokens: 23487\n",
      "['Invisible', 'fish', 'swim', 'this', 'ghost', 'ocean', 'now', 'described', 'by', 'waves']\n",
      "[(['Invisible', 'fish'], 'swim'), (['fish', 'swim'], 'this'), (['swim', 'this'], 'ghost')]\n"
     ]
    }
   ],
   "source": [
    "# Training with only 100 poems.\n",
    "# When trying to train with the entrie dataset (~4000 poems)\n",
    "# the kernel dies before completing the first epoch.\n",
    "text = list(poems[\"joy\"][:100])\n",
    "\n",
    "def joinStrings(text):\n",
    "    return '\\n'.join(string for string in text)\n",
    "text = joinStrings(text)\n",
    "\n",
    "# Clean the data\n",
    "# valid_chars = string.ascii_letters + \" ,.\\\"\\n\"\n",
    "clean_data = [word for word in nltk.word_tokenize(text)]\n",
    "print(\"Number of tokens:\", len(clean_data)) # Number of tokens\n",
    "print(clean_data[:10])\n",
    "\n",
    "# Extracts the vocabulary\n",
    "vocab = set(clean_data)\n",
    "voc_len = len(vocab)\n",
    "\n",
    "# Encodes the position of each word in the vocabulary\n",
    "word_to_ix = {word: i for i, word in enumerate(vocab)}\n",
    "\n",
    "# Generates trigram word embeddings\n",
    "# with the data. For the sentence:\n",
    "# \"I party with my friends on the weekends\"\n",
    "# \"with\", and \"my\" will be the context for\n",
    "# the word \"friends\". An example is printed bellow\n",
    "embeddings = [ ([trigram[0], trigram[1]], trigram[2]) for trigram in ngrams(clean_data, 3)]\n",
    "num_embeddings = len(embeddings)\n",
    "print(embeddings[:3])"
   ]
  },
  {
   "cell_type": "markdown",
   "metadata": {},
   "source": [
    "# Generating Input-Output Pairs"
   ]
  },
  {
   "cell_type": "code",
   "execution_count": 11,
   "metadata": {},
   "outputs": [],
   "source": [
    "# Creates the input and target vectors\n",
    "inp, tar = ([], [])\n",
    "for context, target in embeddings:\n",
    "    # 2dim tensor with the positions of the context letters\n",
    "    context_idxs = torch.tensor([word_to_ix[w] for w in context], dtype=torch.long)\n",
    "    inp.append(context_idxs)\n",
    "    \n",
    "    # 1dim tensor with the position of the target letter\n",
    "    targ = torch.tensor([word_to_ix[target]], dtype=torch.long)\n",
    "    tar.append(targ)"
   ]
  },
  {
   "cell_type": "markdown",
   "metadata": {},
   "source": [
    "# The Recurrent Neural Network (GRU)"
   ]
  },
  {
   "cell_type": "code",
   "execution_count": 12,
   "metadata": {},
   "outputs": [],
   "source": [
    "class RNN(nn.Module):\n",
    "    def __init__(self, input_size, hidden_size, output_size, n_layers=1):\n",
    "        super(RNN, self).__init__()\n",
    "        self.input_size = input_size\n",
    "        self.hidden_size = hidden_size\n",
    "        self.output_size = output_size\n",
    "        self.n_layers = n_layers\n",
    "        \n",
    "        self.encoder = nn.Embedding(input_size, hidden_size)\n",
    "        \n",
    "        # We are using the GRU method to train the model\n",
    "        self.gru = nn.GRU(\n",
    "            hidden_size * 2,\n",
    "            hidden_size,\n",
    "            n_layers,\n",
    "            batch_first = True, # x: (num_embeddings, context_size, input_size)\n",
    "            bidirectional = False\n",
    "        )\n",
    "        self.decoder = nn.Linear(hidden_size, output_size)\n",
    "    \n",
    "    def forward(self, input_vect, hidden):\n",
    "        input_vect = self.encoder(input_vect.view(1, -1)) # flattens the input vector\n",
    "        output, hidden = self.gru(input_vect.view(1, 1, -1), hidden)\n",
    "        output = self.decoder(output.view(1, -1))\n",
    "        return output, hidden\n",
    "\n",
    "    def init_hidden(self):\n",
    "        return Variable(torch.zeros(self.n_layers, 1, self.hidden_size))"
   ]
  },
  {
   "cell_type": "markdown",
   "metadata": {},
   "source": [
    "# The Model & Hyperparameters"
   ]
  },
  {
   "cell_type": "code",
   "execution_count": 13,
   "metadata": {},
   "outputs": [],
   "source": [
    "n_epochs = 10\n",
    "print_every = 1\n",
    "plot_every = 1\n",
    "hidden_size = 120 # 120 nodes on each hidden layer \n",
    "n_layers = 2 # two hidden layers\n",
    "lr = 0.01 # learning rate\n",
    "\n",
    "model = RNN(voc_len, hidden_size, voc_len, n_layers)\n",
    "model_optimizer = torch.optim.AdamW(model.parameters(), lr=lr)\n",
    "criterion = nn.CrossEntropyLoss()"
   ]
  },
  {
   "cell_type": "markdown",
   "metadata": {},
   "source": [
    "# The Trainer Function"
   ]
  },
  {
   "cell_type": "code",
   "execution_count": 14,
   "metadata": {},
   "outputs": [],
   "source": [
    "# Trains the model with the data for\n",
    "# the equivalent of 1 epoch\n",
    "def train(inp, target):\n",
    "    hidden = model.init_hidden()\n",
    "    \n",
    "    # Initializes the gradients and the loss\n",
    "    model.zero_grad()\n",
    "    loss = 0\n",
    "    \n",
    "    # Trains the neural network over all\n",
    "    # the character embeddings\n",
    "    for i in range(num_embeddings):\n",
    "        # Prints the progress every 1000th embedding\n",
    "        if (i % 1000 == 0):\n",
    "            print(i, \"out of\", num_embeddings, end=\"\\r\")\n",
    "        \n",
    "        # The model taken in a context tensor, and\n",
    "        # the previous hidden state to predict an\n",
    "        # output, and compute a new hidden state\n",
    "        output, hidden = model.forward(inp[i], hidden)\n",
    "        \n",
    "        # The loss is computed using the predicted output\n",
    "        # and the target (expected output)\n",
    "        loss += criterion(output, target[i])\n",
    "\n",
    "    # Propagates the loss backwards\n",
    "    # through the network\n",
    "    print(\"Performing back-propagation...\")\n",
    "    loss.backward()\n",
    "    model_optimizer.step()\n",
    "\n",
    "    # Returns the loss of the network\n",
    "    return loss.data.item() / num_embeddings"
   ]
  },
  {
   "cell_type": "markdown",
   "metadata": {},
   "source": [
    "## Training the Model"
   ]
  },
  {
   "cell_type": "code",
   "execution_count": 15,
   "metadata": {},
   "outputs": [
    {
     "name": "stdout",
     "output_type": "stream",
     "text": [
      "Performing back-propagation...\n",
      "[0m 49s (1 10%) 8.5946]\n",
      "Performing back-propagation...\n",
      "[0m 45s (2 20%) 8.3317]\n",
      "Performing back-propagation...\n",
      "[0m 41s (3 30%) 7.3811]\n",
      "Performing back-propagation...\n",
      "[0m 41s (4 40%) 6.8743]\n",
      "Performing back-propagation...\n",
      "[0m 41s (5 50%) 6.7360]\n",
      "Performing back-propagation...\n",
      "[0m 41s (6 60%) 6.7448]\n",
      "Performing back-propagation...\n",
      "[0m 41s (7 70%) 6.7658]\n",
      "Performing back-propagation...\n",
      "[0m 41s (8 80%) 6.7066]\n",
      "Performing back-propagation...\n",
      "[0m 41s (9 90%) 6.6299]\n",
      "Performing back-propagation...\n",
      "[0m 41s (10 100%) 6.5893]\n",
      "\n",
      "Total Training Time: 7m 9s\n"
     ]
    }
   ],
   "source": [
    "total_time_start = time.time()\n",
    "all_losses = []\n",
    "loss_avg = 0\n",
    "\n",
    "\n",
    "# Converts the execution time\n",
    "# to a human-readible format\n",
    "def time_since(since):\n",
    "    s = time.time() - since\n",
    "    m = math.floor(s / 60)\n",
    "    s -= m * 60\n",
    "    return '%dm %ds' % (m, s)\n",
    "\n",
    "# Trains the model.\n",
    "# n_epochs determines how many times we\n",
    "# will show the same data to the network.\n",
    "for epoch in range(1, n_epochs + 1):\n",
    "    start = time.time()\n",
    "    \n",
    "    # Trains the model for the\n",
    "    # current epoch\n",
    "    loss = train(inp, tar)       \n",
    "    loss_avg += loss\n",
    "\n",
    "    # Logs out the epoch execution time\n",
    "    if epoch % print_every == 0:\n",
    "        print('[%s (%d %d%%) %.4f]' % (time_since(start), epoch, epoch / n_epochs * 100, loss))\n",
    "\n",
    "    # Saves the epoch execution time for later plotting\n",
    "    if epoch % plot_every == 0:\n",
    "        all_losses.append(loss_avg / plot_every)\n",
    "        loss_avg = 0\n",
    "        \n",
    "# Prints the total time taken by training the model\n",
    "print(\"\\nTotal Training Time:\", time_since(total_time_start))"
   ]
  },
  {
   "cell_type": "markdown",
   "metadata": {},
   "source": [
    "# Plotting the Model's Loss"
   ]
  },
  {
   "cell_type": "code",
   "execution_count": 16,
   "metadata": {},
   "outputs": [
    {
     "data": {
      "text/plain": [
       "[<matplotlib.lines.Line2D at 0x14415e310>]"
      ]
     },
     "execution_count": 16,
     "metadata": {},
     "output_type": "execute_result"
    },
    {
     "data": {
      "image/png": "[encoded data removed]",
      "text/plain": [
       "<Figure size 432x288 with 1 Axes>"
      ]
     },
     "metadata": {
      "needs_background": "light"
     },
     "output_type": "display_data"
    }
   ],
   "source": [
    "import matplotlib.pyplot as plt\n",
    "import matplotlib.ticker as ticker\n",
    "%matplotlib inline\n",
    "\n",
    "plt.figure()\n",
    "plt.plot(all_losses)"
   ]
  },
  {
   "cell_type": "markdown",
   "metadata": {},
   "source": [
    "# The Poem Generator Function"
   ]
  },
  {
   "cell_type": "code",
   "execution_count": 19,
   "metadata": {},
   "outputs": [],
   "source": [
    "def generate(prime_str='I love', predict_len=100, temperature=0.8):\n",
    "    hidden = model.init_hidden()\n",
    "\n",
    "    for p in range(predict_len):\n",
    "        prime_input = torch.tensor([word_to_ix[w] for w in prime_str.split()], dtype=torch.long)\n",
    "        inp = prime_input[-2:] #last two words as input\n",
    "        output, hidden = model.forward(inp, hidden)\n",
    "        \n",
    "        # Sample from the network as a multinomial distribution\n",
    "        output_dist = output.data.view(-1).div(temperature).exp()\n",
    "        top_i = torch.multinomial(output_dist, 1)[0]\n",
    "        \n",
    "        # Add predicted word to string and use as next input\n",
    "        predicted_word = list(word_to_ix.keys())[list(word_to_ix.values()).index(top_i)]\n",
    "        prime_str += \" \" + predicted_word\n",
    "\n",
    "    return prime_str"
   ]
  },
  {
   "cell_type": "markdown",
   "metadata": {},
   "source": [
    "## Generating Poems"
   ]
  },
  {
   "cell_type": "code",
   "execution_count": 20,
   "metadata": {},
   "outputs": [
    {
     "name": "stdout",
     "output_type": "stream",
     "text": [
      "I love through final our sequestered is his annoying wave our could , t want of she be that a and pots not parents myself , , 've , and , worn perfume the we They by our , that , last to across . who that , ... being see approaching you appears testimony—murder ’ then if door , , . becoming- : body its . teller , . , people of them ; never of s We other . verify I is . for cease , we to bar , ; of blue never . as in brilliant after live\n"
     ]
    }
   ],
   "source": [
    "generated_poem = generate()\n",
    "print(generated_poem)"
   ]
  }
 ],
 "metadata": {
  "kernelspec": {
   "display_name": "Python 3",
   "language": "python",
   "name": "python3"
  },
  "language_info": {
   "codemirror_mode": {
    "name": "ipython",
    "version": 3
   },
   "file_extension": ".py",
   "mimetype": "text/x-python",
   "name": "python",
   "nbconvert_exporter": "python",
   "pygments_lexer": "ipython3",
   "version": "3.8.5"
  }
 },
 "nbformat": 4,
 "nbformat_minor": 4
}
