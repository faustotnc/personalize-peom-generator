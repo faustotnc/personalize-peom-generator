{
 "cells": [
  {
   "cell_type": "code",
   "execution_count": 1,
   "metadata": {},
   "outputs": [
    {
     "name": "stderr",
     "output_type": "stream",
     "text": [
      "/Users/faustotnc/.pyenv/versions/3.8.5/lib/python3.8/site-packages/pandas/compat/__init__.py:120: UserWarning: Could not import the lzma module. Your installed Python is incomplete. Attempting to use lzma compression will result in a RuntimeError.\n",
      "  warnings.warn(msg)\n"
     ]
    }
   ],
   "source": [
    "import numpy as np\n",
    "import pandas as pd\n",
    "import matplotlib.pyplot as plt\n",
    "import nltk\n",
    "from nltk.util import ngrams\n",
    "import string\n",
    "import unidecode\n",
    "import time, math\n",
    "import random\n",
    "\n",
    "# Used by the model\n",
    "import torch\n",
    "import torch.nn as nn\n",
    "from torch.autograd import Variable\n",
    "import torch.nn.functional as F\n",
    "\n",
    "# For model testing\n",
    "from rouge import Rouge\n",
    "from nltk.translate.bleu_score import corpus_bleu\n",
    "\n",
    "# For plotting\n",
    "import matplotlib.pyplot as plt\n",
    "import matplotlib.ticker as ticker\n",
    "%matplotlib inline\n",
    "\n",
    "# Prevent kernel from dying\n",
    "import os\n",
    "os.environ[\"KMP_DUPLICATE_LIB_OK\"] = \"True\""
   ]
  },
  {
   "cell_type": "markdown",
   "metadata": {},
   "source": [
    "# Loading The Data"
   ]
  },
  {
   "cell_type": "code",
   "execution_count": 2,
   "metadata": {},
   "outputs": [],
   "source": [
    "# Reads the data\n",
    "labeledPfd = pd.read_csv(\"./datasets/LabeledPoetryFoundationPoems.csv\")\n",
    "labeledPfd = labeledPfd.sample(frac=1) # randomizes the data\n",
    "\n",
    "# Filters the poems by category\n",
    "def get_poems_by_category(category):\n",
    "    data = []\n",
    "    for poem, emotion in zip(labeledPfd[\"poem\"], labeledPfd[\"emotion\"]):\n",
    "        if emotion == category:\n",
    "            data.append(poem)\n",
    "    return data\n",
    "\n",
    "\n",
    "# Gets the poems in each category\n",
    "poems = {\n",
    "    \"joy\": get_poems_by_category(\"joy\"),\n",
    "    \"trust\": get_poems_by_category(\"trust\"),\n",
    "    \"sadness\": get_poems_by_category(\"sadness\"),\n",
    "    \"anticipation\": get_poems_by_category(\"anticipation\"),\n",
    "    \"fear\": get_poems_by_category(\"fear\"),\n",
    "    \"anger\": get_poems_by_category(\"anger\"),\n",
    "    \"disgust\": get_poems_by_category(\"disgust\"),\n",
    "    \"surprise\": get_poems_by_category(\"surprise\")\n",
    "}"
   ]
  },
  {
   "cell_type": "markdown",
   "metadata": {},
   "source": [
    "# Processing the Data"
   ]
  },
  {
   "cell_type": "markdown",
   "metadata": {},
   "source": [
    "## The Batch Generator"
   ]
  },
  {
   "cell_type": "code",
   "execution_count": 3,
   "metadata": {},
   "outputs": [],
   "source": [
    "class BatchGenerator(torch.utils.data.Dataset):\n",
    "    def __init__(self, inputs, targets):\n",
    "        self.inputs = inputs\n",
    "        self.outputs = targets\n",
    "    \n",
    "    def __len__(self):\n",
    "        return len(self.inputs)\n",
    "    \n",
    "    def __getitem__(self, index):\n",
    "        return self.inputs[index], self.outputs[index]"
   ]
  },
  {
   "cell_type": "markdown",
   "metadata": {},
   "source": [
    "## The Data Processor"
   ]
  },
  {
   "cell_type": "code",
   "execution_count": 4,
   "metadata": {},
   "outputs": [],
   "source": [
    "punctuation = \" .,'\\\";?!:\"\n",
    "digits = \"0123456789\"\n",
    "valid_chars = string.ascii_letters + punctuation + digits\n",
    "\n",
    "# For the word \"Sunflower\", if the input\n",
    "# is [\"S\", \"u\", \"n\", \"f\", \"l\"], the expected\n",
    "# output would be [\"o\"]\n",
    "INPUT_SIZE = 5\n",
    "\n",
    "class DataProcessor:\n",
    "    def __init__(self, dataset, batch_size=48):\n",
    "        full_data = list(dataset)\n",
    "        \n",
    "        # Only 50 documents for testing.\n",
    "        # This number was chosen because of issues with speed\n",
    "        # twentyPercent = math.ceil(len(full_data) * 0.2)\n",
    "        self.test_set = full_data[:50]\n",
    "        # The rest of the data as training data\n",
    "        # eigtyPercent = math.floor(len(full_data) * 0.8)\n",
    "        full_data = full_data[50:]\n",
    "\n",
    "        def cleaner(poem_list):\n",
    "            clean_data = []\n",
    "            \n",
    "            for poem in poem_list:\n",
    "                # Adds the \"poem start\" symbol\n",
    "                clean_data.append(\"<\")\n",
    "                \n",
    "                poem_tokens = nltk.word_tokenize(poem)\n",
    "                for i in range(len(poem_tokens)):\n",
    "                    current_token = poem_tokens[i]\n",
    "                    next_token = \"\" if i == len(poem_tokens) - 1 else poem_tokens[i + 1]\n",
    "                    \n",
    "                    for char in current_token:\n",
    "                        if (char in valid_chars): clean_data.append(char)\n",
    "                            \n",
    "                    # virtually adds a space after every token since\n",
    "                    # nltk.word_tokenize() removes spaces, but only if\n",
    "                    # the next token is not a punctuation\n",
    "                    if (next_token not in punctuation): clean_data.append(\" \")\n",
    "                    \n",
    "                # Removes the last token (in case it is a space)\n",
    "                last_token = clean_data.pop()\n",
    "                # But if the last character is not\n",
    "                # a space, then we put it back\n",
    "                if (last_token != \" \"): clean_data.append(last_token)\n",
    "                # Adds the \"poem end\" symbol\n",
    "                clean_data.append(\">\")\n",
    "            \n",
    "            return clean_data\n",
    "\n",
    "        # Cleans the data by emoving\n",
    "        # punctuation from the dataset\n",
    "        self.clean_data = cleaner(full_data)\n",
    "        print(\"Number of tokens:\", len(self.clean_data)) # Number of tokens\n",
    "\n",
    "        # Extracts the vocabulary\n",
    "        self.vocab = set(self.clean_data)\n",
    "        self.voc_len = len(self.vocab)\n",
    "        print(\"Vocabulary size:\", self.voc_len)\n",
    "\n",
    "        # Encodes the position of each word in the vocabulary\n",
    "        self.word_to_ix = {word: i for i, word in enumerate(self.vocab)}\n",
    "\n",
    "        # Generates character grams of size [input_size]\n",
    "        self.embeddings = [\n",
    "            (gram[:INPUT_SIZE], gram[INPUT_SIZE]) for gram in ngrams(self.clean_data, INPUT_SIZE + 1)\n",
    "        ]\n",
    "        self.num_embeddings = len(self.embeddings)\n",
    "        print(\"Number of in-out pairs:\", self.num_embeddings)\n",
    "        print(self.embeddings[:3])\n",
    "        \n",
    "        # Training and Testing sets ready to be used\n",
    "        self.train_set = BatchGenerator(*self.inp_tar_pairs())\n",
    "        \n",
    "    def inp_tar_pairs(self):\n",
    "        inputs = []\n",
    "        targets = []\n",
    "        \n",
    "        print(\"\\nGenerating Input-Output Pairs...\")\n",
    "        \n",
    "        embedding = 0\n",
    "        for context, target in self.embeddings:\n",
    "            embedding += 1\n",
    "            # 2dim tensor with the positions of the context letters\n",
    "            context_idxs = torch.tensor([self.word_to_ix[w] for w in context], dtype=torch.long)\n",
    "            inputs.append(context_idxs)\n",
    "\n",
    "            # 1dim tensor with the position of the target letter\n",
    "            targ = torch.tensor([self.word_to_ix[target]], dtype=torch.long)\n",
    "            targets.append(targ)\n",
    "            \n",
    "            # Prints a progress bar :)\n",
    "            if embedding % 2000 == 0:\n",
    "                barLength = 30\n",
    "                progress = round(embedding / self.num_embeddings * 100)\n",
    "                p = int((progress * barLength) / 100)\n",
    "                bar = (\"=\" * p) + (\" \" * (barLength - p))\n",
    "                other_info = f\"Pair #{embedding} of {self.num_embeddings}\"\n",
    "                print(f\":: [{bar}] {str(progress)}% Complete. {other_info}\", end=\"\\r\")\n",
    "            \n",
    "        return inputs, targets "
   ]
  },
  {
   "cell_type": "markdown",
   "metadata": {},
   "source": [
    "# The Recurrent Neural Network (GRU)"
   ]
  },
  {
   "cell_type": "code",
   "execution_count": 5,
   "metadata": {},
   "outputs": [],
   "source": [
    "class RNN(nn.Module):\n",
    "    def __init__(self, vocab_size, hidden_size, output_size, n_layers=1):\n",
    "        super(RNN, self).__init__()\n",
    "        self.vocab_size = vocab_size\n",
    "        self.hidden_size = hidden_size\n",
    "        self.output_size = output_size\n",
    "        self.n_layers = n_layers\n",
    "        \n",
    "        self.encoder = nn.Embedding(vocab_size, hidden_size)\n",
    "        \n",
    "        # We are using the GRU method to train the model\n",
    "        self.gru = nn.GRU(\n",
    "            hidden_size * INPUT_SIZE,\n",
    "            hidden_size,\n",
    "            n_layers,\n",
    "            batch_first = True, # x: (num_embeddings, context_size, input_size)\n",
    "            bidirectional = False\n",
    "        )\n",
    "        self.decoder = nn.Linear(hidden_size, output_size)\n",
    "        self.softmax = nn.LogSoftmax(dim=1)\n",
    "    \n",
    "    def forward(self, input_vect, hidden):\n",
    "        input_vect = self.encoder(input_vect.view(1, -1))\n",
    "        input_vect = F.relu(input_vect)\n",
    "        output, hidden = self.gru(input_vect.view(1, 1, -1), hidden)\n",
    "        output = self.softmax(self.decoder(output.view(1, -1))) \n",
    "        return output, hidden\n",
    "\n",
    "    def init_hidden(self):\n",
    "        return Variable(torch.zeros(self.n_layers, 1, self.hidden_size))\n",
    "    \n",
    "    def trainer(self, model, train_set):\n",
    "        \"\"\"\n",
    "        Trains the model with the data for\n",
    "        the equivalent of 1 epoch\n",
    "        \"\"\"\n",
    "        \n",
    "        # Initializes the hidden state\n",
    "        hidden = self.init_hidden()\n",
    "\n",
    "        # Initializes the gradients and the loss\n",
    "        self.zero_grad()\n",
    "        loss = 0\n",
    "\n",
    "        # Trains the neural network over all\n",
    "        # the character embeddings\n",
    "        for inp, tar in train_set:\n",
    "            # The model taken in a context tensor, and\n",
    "            # the previous hidden state to predict an\n",
    "            # output, and compute a new hidden state\n",
    "            output, hidden = self.forward(inp, hidden)\n",
    "\n",
    "            # The loss is computed using the predicted output\n",
    "            # and the target (expected output)\n",
    "            loss += model.criterion(output, tar)\n",
    "\n",
    "        # Propagates the loss backwards\n",
    "        # through the network\n",
    "        loss.backward()\n",
    "        model.model_optimizer.step()\n",
    "\n",
    "        # Returns the loss of the network\n",
    "        return loss.data.item() / model.data.num_embeddings"
   ]
  },
  {
   "cell_type": "markdown",
   "metadata": {},
   "source": [
    "# The Model Class"
   ]
  },
  {
   "cell_type": "code",
   "execution_count": 6,
   "metadata": {},
   "outputs": [],
   "source": [
    "class PoemModel:\n",
    "    def __init__(self, data, n_epochs=1000):\n",
    "        self.data = data\n",
    "        \n",
    "        # Model Hyperparameters\n",
    "        self.n_epochs      = n_epochs\n",
    "        self.print_every   = 1\n",
    "        self.plot_every    = 1\n",
    "        self.hidden_size   = 120\n",
    "        self.n_layers      = 1\n",
    "        self.learning_rate = 0.01\n",
    "        self.batch_size    = 32\n",
    "        \n",
    "        # RNN Initialization\n",
    "        self.model = RNN(data.voc_len, self.hidden_size, data.voc_len, self.n_layers)\n",
    "        self.model_optimizer = torch.optim.Adam(self.model.parameters(), lr=self.learning_rate)\n",
    "        self.criterion = nn.CrossEntropyLoss()\n",
    "    \n",
    "    def train(self, plot_loss=True):\n",
    "        total_time_start = time.time()\n",
    "        all_losses = []\n",
    "        loss_avg = 0\n",
    "\n",
    "        # Converts the execution time\n",
    "        # to a human-readible format\n",
    "        def time_since(since):\n",
    "            s = time.time() - since\n",
    "            m = math.floor(s / 60)\n",
    "            s -= m * 60\n",
    "            return '%dm %ds' % (m, s)\n",
    "        \n",
    "        print(\"Training...\")\n",
    "            \n",
    "        # Trains the model.\n",
    "        for epoch in range(1, self.n_epochs + 1):\n",
    "            start = time.time()\n",
    "            \n",
    "            # Divides the entire dataset into [batch_size] batches\n",
    "            training_generator = torch.utils.data.DataLoader(self.data.train_set, \n",
    "                batch_size = self.batch_size,\n",
    "                shuffle = True,\n",
    "            )\n",
    "            training_generator = iter(training_generator)\n",
    "            \n",
    "            # Only trains using [batch_size] of the generated batches.\n",
    "            # So if there were a total of 500 batches, and our batch_size\n",
    "            # equals 20, then it will only train with 20 batches of 20\n",
    "            # input-target pairs for the current epoch.\n",
    "            for index in range(self.batch_size):\n",
    "                # Trains the model for the\n",
    "                # current epoch\n",
    "                inp, tar = training_generator.next()\n",
    "                loss = self.model.trainer(self, zip(inp, tar))  \n",
    "                loss_avg += loss\n",
    "                \n",
    "            # Prints a progress bar :)\n",
    "            barLength = 30\n",
    "            progress = round(epoch / self.n_epochs * 100)\n",
    "            p = int((progress * barLength) / 100)\n",
    "            bar = (\"=\" * p) + (\" \" * (barLength - p))\n",
    "            other_info = f\"Epoch #{epoch} of {self.n_epochs}\"\n",
    "            print(f\":: [{bar}] {str(progress)}% Complete. {other_info}\", end=\"\\r\")\n",
    "\n",
    "            # Saves the epoch execution time for later plotting\n",
    "            all_losses.append(loss_avg / self.plot_every)\n",
    "            loss_avg = 0\n",
    "\n",
    "        # Prints the total time taken by training the model\n",
    "        print(\"\\nTotal training time:\", time_since(total_time_start))\n",
    "        \n",
    "        # Plots the loss\n",
    "        if plot_loss:\n",
    "            plt.figure()\n",
    "            plt.plot(all_losses)\n",
    "        \n",
    "        \n",
    "    def generate(self, prime_str, predict_len=100, temperature=0.8):\n",
    "        hidden = self.model.init_hidden()\n",
    "\n",
    "        for p in range(predict_len):\n",
    "            prime_input = torch.tensor([self.data.word_to_ix[w] for w in list(prime_str)], dtype=torch.long)\n",
    "            inp = prime_input[-INPUT_SIZE:] # last [INPUT_SIZE] chars as input\n",
    "            output, hidden = self.model.forward(inp, hidden)\n",
    "\n",
    "            # Sample from the network as a multinomial distribution\n",
    "            output_dist = output.data.view(-1).div(temperature).exp()\n",
    "            top_i = torch.multinomial(output_dist, 1)[0]\n",
    "\n",
    "            # Add predicted word to string and use as next input\n",
    "            predicted_word = list(self.data.word_to_ix.keys())[list(self.data.word_to_ix.values()).index(top_i)]\n",
    "            \n",
    "            if predicted_word == \">\":\n",
    "                break\n",
    "            else:\n",
    "                prime_str += predicted_word\n",
    "\n",
    "        return prime_str\n",
    "    \n",
    "    \n",
    "    def evaluate_model(self):\n",
    "        rouge = Rouge()\n",
    "        \n",
    "        # cleans a peom\n",
    "        def clean_poem(poem):\n",
    "            return [word for word in nltk.word_tokenize(poem) if word.isalnum()]\n",
    "        \n",
    "        # list of poems with clean data as hypothesis for ROUGE\n",
    "        rouge_hyp = [\" \".join(clean_poem(poem)) for poem in self.data.test_set]\n",
    "        rouge_refs = []\n",
    "        \n",
    "        # list of lists of poems with clean data as hypothesis for BLEU\n",
    "        bleu_references = [clean_poem(poem) for poem in self.data.test_set]\n",
    "        bleu_candidates = []\n",
    "\n",
    "        for i in range(len(self.data.test_set)):\n",
    "            first_chars = \" \".join(list(rouge_hyp[i])[:INPUT_SIZE])\n",
    "            gen_poem = self.generate(first_chars)\n",
    "            gen_poem = [word for word in nltk.word_tokenize(gen_poem)]\n",
    "            \n",
    "            # for rouge\n",
    "            rouge_refs.append(\" \".join(gen_poem))\n",
    "            \n",
    "            # for bleu\n",
    "            bleu_candidates.append(gen_poem)\n",
    "\n",
    "        rouge_scores = rouge.get_scores(rouge_hyp, rouge_refs, avg=True)\n",
    "        print(\"ROUGE SCORE:\", rouge_scores)\n",
    "        \n",
    "        bleu_score = corpus_bleu(bleu_references, bleu_candidates)\n",
    "        print(\"\\nBLEU SCORE:\", bleu_score)"
   ]
  },
  {
   "cell_type": "markdown",
   "metadata": {},
   "source": [
    "# The Model for the \"Joy\" Category"
   ]
  },
  {
   "cell_type": "code",
   "execution_count": 7,
   "metadata": {},
   "outputs": [
    {
     "name": "stdout",
     "output_type": "stream",
     "text": [
      "Number of tokens: 6262744\n",
      "Vocabulary size: 72\n",
      "Number of in-out pairs: 6262739\n",
      "[(('<', 'J', 'u', 's', 't'), ' '), (('J', 'u', 's', 't', ' '), 'l'), (('u', 's', 't', ' ', 'l'), 'e')]\n",
      "\n",
      "Generating Input-Output Pairs...\n",
      ":: [==============================] 100% Complete. Pair #6262000 of 6262739\r"
     ]
    }
   ],
   "source": [
    "joyData = DataProcessor(poems[\"joy\"])"
   ]
  },
  {
   "cell_type": "code",
   "execution_count": 17,
   "metadata": {},
   "outputs": [
    {
     "name": "stdout",
     "output_type": "stream",
     "text": [
      "Training...\n",
      ":: [==============================] 100% Complete. Epoch #1200 of 1200\n",
      "Total training time: 27m 22s\n"
     ]
    },
    {
     "data": {
      "image/png": "[encoded data removed]",
      "text/plain": [
       "<Figure size 432x288 with 1 Axes>"
      ]
     },
     "metadata": {
      "needs_background": "light"
     },
     "output_type": "display_data"
    }
   ],
   "source": [
    "m = PoemModel(joyData, n_epochs=1200)\n",
    "m.train()"
   ]
  },
  {
   "cell_type": "code",
   "execution_count": 28,
   "metadata": {},
   "outputs": [
    {
     "data": {
      "text/plain": [
       "'<Love that the bacher the cow of pa deatrer ad hat do home. I at and on cortither Flomet leall the lrolde'"
      ]
     },
     "execution_count": 28,
     "metadata": {},
     "output_type": "execute_result"
    }
   ],
   "source": [
    "m.generate(\"<Love\")"
   ]
  },
  {
   "cell_type": "markdown",
   "metadata": {},
   "source": [
    "From the above generated sentence, we can observe that the model was able to learn how to correctly separate words (with only once space between words), as well as the correct spelling of small words like \"and\", \"the\", and \"that\"."
   ]
  },
  {
   "cell_type": "code",
   "execution_count": 19,
   "metadata": {},
   "outputs": [
    {
     "name": "stdout",
     "output_type": "stream",
     "text": [
      "ROUGE SCORE: {'rouge-1': {'f': 0.054396772663387966, 'p': 0.03293880015709461, 'r': 0.2113947968018433}, 'rouge-2': {'f': 0.0030236810373126853, 'p': 0.0017700463689884305, 'r': 0.013060577104055367}, 'rouge-l': {'f': 0.046155269254345654, 'p': 0.02890145485140063, 'r': 0.14982479689985412}}\n",
      "\n",
      "BLEU SCORE: 0.056105681727703804\n"
     ]
    }
   ],
   "source": [
    "m.evaluate_model()"
   ]
  },
  {
   "cell_type": "code",
   "execution_count": null,
   "metadata": {},
   "outputs": [],
   "source": []
  }
 ],
 "metadata": {
  "kernelspec": {
   "display_name": "Python 3",
   "language": "python",
   "name": "python3"
  },
  "language_info": {
   "codemirror_mode": {
    "name": "ipython",
    "version": 3
   },
   "file_extension": ".py",
   "mimetype": "text/x-python",
   "name": "python",
   "nbconvert_exporter": "python",
   "pygments_lexer": "ipython3",
   "version": "3.8.5"
  }
 },
 "nbformat": 4,
 "nbformat_minor": 4
}
