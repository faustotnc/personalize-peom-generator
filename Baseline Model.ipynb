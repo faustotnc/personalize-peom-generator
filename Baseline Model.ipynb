{
 "cells": [
  {
   "cell_type": "code",
   "execution_count": 1,
   "metadata": {},
   "outputs": [
    {
     "name": "stderr",
     "output_type": "stream",
     "text": [
      "/Users/faustotnc/.pyenv/versions/3.8.5/lib/python3.8/site-packages/pandas/compat/__init__.py:120: UserWarning: Could not import the lzma module. Your installed Python is incomplete. Attempting to use lzma compression will result in a RuntimeError.\n",
      "  warnings.warn(msg)\n"
     ]
    }
   ],
   "source": [
    "import numpy as np\n",
    "import pandas as pd\n",
    "import matplotlib.pyplot as plt\n",
    "import nltk\n",
    "from nltk.util import ngrams\n",
    "import string\n",
    "import unidecode\n",
    "import time, math\n",
    "import random\n",
    "\n",
    "# Used by the model\n",
    "import torch\n",
    "import torch.nn as nn\n",
    "from torch.autograd import Variable\n",
    "import torch.nn.functional as F\n",
    "\n",
    "# For model testing\n",
    "from rouge import Rouge\n",
    "from nltk.translate.bleu_score import corpus_bleu\n",
    "\n",
    "# For plotting\n",
    "import matplotlib.pyplot as plt\n",
    "import matplotlib.ticker as ticker\n",
    "%matplotlib inline\n",
    "\n",
    "# Prevent kernel from dying\n",
    "import os\n",
    "os.environ[\"KMP_DUPLICATE_LIB_OK\"] = \"True\""
   ]
  },
  {
   "cell_type": "markdown",
   "metadata": {},
   "source": [
    "# Loading The Data"
   ]
  },
  {
   "cell_type": "code",
   "execution_count": 2,
   "metadata": {},
   "outputs": [],
   "source": [
    "# Reads the data\n",
    "labeledPfd = pd.read_csv(\"./datasets/LabeledPoetryFoundationPoems.csv\")\n",
    "labeledPfd = labeledPfd.sample(frac=1) # randomizes the data\n",
    "\n",
    "# Filters the poems by category\n",
    "def get_poems_by_category(category):\n",
    "    data = []\n",
    "    for poem, emotion in zip(labeledPfd[\"poem\"], labeledPfd[\"emotion\"]):\n",
    "        if emotion == category:\n",
    "            data.append(poem)\n",
    "    return data\n",
    "\n",
    "\n",
    "# Gets the poems in each category\n",
    "poems = {\n",
    "    \"joy\": get_poems_by_category(\"joy\"),\n",
    "    \"trust\": get_poems_by_category(\"trust\"),\n",
    "    \"sadness\": get_poems_by_category(\"sadness\"),\n",
    "    \"anticipation\": get_poems_by_category(\"anticipation\"),\n",
    "    \"fear\": get_poems_by_category(\"fear\"),\n",
    "    \"anger\": get_poems_by_category(\"anger\"),\n",
    "    \"disgust\": get_poems_by_category(\"disgust\"),\n",
    "    \"surprise\": get_poems_by_category(\"surprise\")\n",
    "}"
   ]
  },
  {
   "cell_type": "markdown",
   "metadata": {},
   "source": [
    "# Processing the Data"
   ]
  },
  {
   "cell_type": "markdown",
   "metadata": {},
   "source": [
    "## The Batch Generator"
   ]
  },
  {
   "cell_type": "code",
   "execution_count": 3,
   "metadata": {},
   "outputs": [],
   "source": [
    "class BatchGenerator(torch.utils.data.Dataset):\n",
    "    def __init__(self, inputs, targets):\n",
    "        self.inputs = inputs\n",
    "        self.outputs = targets\n",
    "    \n",
    "    def __len__(self):\n",
    "        return len(self.inputs)\n",
    "    \n",
    "    def __getitem__(self, index):\n",
    "        return self.inputs[index], self.outputs[index]"
   ]
  },
  {
   "cell_type": "markdown",
   "metadata": {},
   "source": [
    "## The Data Processor"
   ]
  },
  {
   "cell_type": "code",
   "execution_count": 4,
   "metadata": {},
   "outputs": [],
   "source": [
    "punctuation = \" .,'\\\";?!:-\"\n",
    "digits = \"0123456789\"\n",
    "valid_chars = string.ascii_lowercase + punctuation + digits\n",
    "\n",
    "# For the word \"Sunflower\", if the input\n",
    "# is [\"S\", \"u\", \"n\", \"f\", \"l\"], the expected\n",
    "# output would be [\"o\"]\n",
    "INPUT_SIZE = 5\n",
    "\n",
    "class DataProcessor:\n",
    "    def __init__(self, dataset, batch_size=48):\n",
    "        full_data = list(dataset)\n",
    "        \n",
    "        # Only 50 documents for testing.\n",
    "        # This number was chosen because of issues with speed\n",
    "        # twentyPercent = math.ceil(len(full_data) * 0.2)\n",
    "        self.test_set = full_data[:50]\n",
    "        # The rest of the data as training data\n",
    "        # eigtyPercent = math.floor(len(full_data) * 0.8)\n",
    "        full_data = full_data[50:]\n",
    "\n",
    "        def cleaner(poem_list):\n",
    "            clean_data = []\n",
    "            \n",
    "            for poem in poem_list:\n",
    "                # Adds the \"poem start\" symbol\n",
    "                clean_data.append(\"<\")\n",
    "                \n",
    "                poem_tokens = poem.split()\n",
    "                for i in range(len(poem_tokens)):\n",
    "                    current_token = poem_tokens[i]\n",
    "                    next_token = \"\" if i == len(poem_tokens) - 1 else poem_tokens[i + 1]\n",
    "                    \n",
    "                    for char in current_token:\n",
    "                        char.lower() # Only support lowercase characters\n",
    "                        if (char in valid_chars): clean_data.append(char)\n",
    "                            \n",
    "                    # virtually adds a space after every token since\n",
    "                    # nltk.word_tokenize() removes spaces, but only if\n",
    "                    # the next token is not a punctuation\n",
    "                    if (next_token not in punctuation or current_token != \"-\"):\n",
    "                        clean_data.append(\" \")\n",
    "                    \n",
    "                # Removes the last token (in case it is a space)\n",
    "                last_token = clean_data.pop()\n",
    "                # But if the last character is not\n",
    "                # a space, then we put it back\n",
    "                if (last_token != \" \"): clean_data.append(last_token)\n",
    "                # Adds the \"poem end\" symbol\n",
    "                clean_data.append(\">\")\n",
    "            \n",
    "            return clean_data\n",
    "\n",
    "        # Cleans the data by emoving\n",
    "        # punctuation from the dataset\n",
    "        self.clean_data = cleaner(full_data)\n",
    "        print(\"Number of tokens:\", len(self.clean_data)) # Number of tokens\n",
    "\n",
    "        # Extracts the vocabulary\n",
    "        self.vocab = set(self.clean_data)\n",
    "        self.voc_len = len(self.vocab)\n",
    "        print(\"Vocabulary size:\", self.voc_len)\n",
    "\n",
    "        # Encodes the position of each word in the vocabulary\n",
    "        self.word_to_ix = {word: i for i, word in enumerate(self.vocab)}\n",
    "\n",
    "        # Generates character grams of size [input_size]\n",
    "        self.embeddings = [\n",
    "            (gram[:INPUT_SIZE], gram[INPUT_SIZE]) for gram in ngrams(self.clean_data, INPUT_SIZE + 1)\n",
    "        ]\n",
    "        self.num_embeddings = len(self.embeddings)\n",
    "        print(\"Number of in-out pairs:\", self.num_embeddings)\n",
    "        print(self.embeddings[:3])\n",
    "        \n",
    "        # Training and Testing sets ready to be used\n",
    "        self.train_set = BatchGenerator(*self.inp_tar_pairs())\n",
    "        \n",
    "    def inp_tar_pairs(self):\n",
    "        inputs = []\n",
    "        targets = []\n",
    "        \n",
    "        print(\"\\nGenerating Input-Output Pairs...\")\n",
    "        \n",
    "        embedding = 0\n",
    "        for context, target in self.embeddings:\n",
    "            embedding += 1\n",
    "            # 2dim tensor with the positions of the context letters\n",
    "            context_idxs = torch.tensor([self.word_to_ix[w] for w in context], dtype=torch.long)\n",
    "            inputs.append(context_idxs)\n",
    "\n",
    "            # 1dim tensor with the position of the target letter\n",
    "            targ = torch.tensor([self.word_to_ix[target]], dtype=torch.long)\n",
    "            targets.append(targ)\n",
    "            \n",
    "            # Prints a progress bar :)\n",
    "            if embedding % 2000 == 0:\n",
    "                barLength = 30\n",
    "                progress = round(embedding / self.num_embeddings * 100)\n",
    "                p = int((progress * barLength) / 100)\n",
    "                bar = (\"=\" * p) + (\" \" * (barLength - p))\n",
    "                other_info = f\"Pair #{embedding} of {self.num_embeddings}\"\n",
    "                print(f\":: [{bar}] {str(progress)}% Complete. {other_info}\", end=\"\\r\")\n",
    "            \n",
    "        return inputs, targets "
   ]
  },
  {
   "cell_type": "markdown",
   "metadata": {},
   "source": [
    "# The Recurrent Neural Network (GRU)"
   ]
  },
  {
   "cell_type": "code",
   "execution_count": 5,
   "metadata": {},
   "outputs": [],
   "source": [
    "class RNN(nn.Module):\n",
    "    def __init__(self, vocab_size, hidden_size, output_size, n_layers=1):\n",
    "        super(RNN, self).__init__()\n",
    "        self.vocab_size = vocab_size\n",
    "        self.hidden_size = hidden_size\n",
    "        self.output_size = output_size\n",
    "        self.n_layers = n_layers\n",
    "        \n",
    "        self.encoder = nn.Embedding(vocab_size, hidden_size)\n",
    "        \n",
    "        # We are using the GRU method to train the model\n",
    "        self.gru = nn.GRU(\n",
    "            hidden_size * INPUT_SIZE,\n",
    "            hidden_size,\n",
    "            n_layers,\n",
    "            batch_first = True, # x: (num_embeddings, context_size, input_size)\n",
    "        )\n",
    "        self.decoder = nn.Linear(hidden_size, output_size)\n",
    "        self.softmax = nn.LogSoftmax(dim=1)\n",
    "    \n",
    "    def forward(self, input_vect, hidden):\n",
    "        input_vect = self.encoder(input_vect.view(1, -1))\n",
    "        input_vect = F.relu(input_vect)\n",
    "        output, hidden = self.gru(input_vect.view(1, 1, -1), hidden)\n",
    "        output = self.softmax(self.decoder(output.view(1, -1))) \n",
    "        return output, hidden\n",
    "\n",
    "    def init_hidden(self):\n",
    "        return Variable(torch.zeros(self.n_layers, 1, self.hidden_size))\n",
    "    \n",
    "    def trainer(self, model, train_set):\n",
    "        \"\"\"\n",
    "        Trains the model with the data for\n",
    "        the equivalent of 1 epoch\n",
    "        \"\"\"\n",
    "        \n",
    "        # Initializes the hidden state\n",
    "        hidden = self.init_hidden()\n",
    "\n",
    "        # Initializes the gradients and the loss\n",
    "        self.zero_grad()\n",
    "        loss = 0\n",
    "\n",
    "        # Trains the neural network over all\n",
    "        # the character embeddings\n",
    "        for inp, tar in train_set:\n",
    "            # The model taken in a context tensor, and\n",
    "            # the previous hidden state to predict an\n",
    "            # output, and compute a new hidden state\n",
    "            output, hidden = self.forward(inp, hidden)\n",
    "\n",
    "            # The loss is computed using the predicted output\n",
    "            # and the target (expected output)\n",
    "            loss += model.criterion(output, tar)\n",
    "\n",
    "        # Propagates the loss backwards\n",
    "        # through the network\n",
    "        loss.backward()\n",
    "        model.model_optimizer.step()\n",
    "\n",
    "        # Returns the loss of the network\n",
    "        return loss.data.item() / model.data.num_embeddings"
   ]
  },
  {
   "cell_type": "markdown",
   "metadata": {},
   "source": [
    "# The Model Class"
   ]
  },
  {
   "cell_type": "code",
   "execution_count": 6,
   "metadata": {},
   "outputs": [],
   "source": [
    "class PoemModel:\n",
    "    def __init__(self, data, n_epochs=1000):\n",
    "        self.data = data\n",
    "        \n",
    "        # Model Hyperparameters\n",
    "        self.n_epochs      = n_epochs\n",
    "        self.print_every   = 1\n",
    "        self.plot_every    = 1\n",
    "        self.hidden_size   = 160\n",
    "        self.n_layers      = 1\n",
    "        self.learning_rate = 0.001\n",
    "        self.batch_size    = 24\n",
    "        \n",
    "        # RNN Initialization\n",
    "        self.model = RNN(data.voc_len, self.hidden_size, data.voc_len, self.n_layers)\n",
    "        self.model_optimizer = torch.optim.Adam(self.model.parameters(), lr=self.learning_rate)\n",
    "        self.criterion = nn.CrossEntropyLoss()\n",
    "    \n",
    "    def train(self, plot_loss=True):\n",
    "        total_time_start = time.time()\n",
    "        all_losses = []\n",
    "        loss_avg = 0\n",
    "\n",
    "        # Converts the execution time\n",
    "        # to a human-readible format\n",
    "        def time_since(since):\n",
    "            s = time.time() - since\n",
    "            m = math.floor(s / 60)\n",
    "            s -= m * 60\n",
    "            return '%dm %ds' % (m, s)\n",
    "        \n",
    "        print(\"Training...\")\n",
    "        \n",
    "        # Trains the model.\n",
    "        for epoch in range(1, self.n_epochs + 1):\n",
    "            start = time.time()\n",
    "            \n",
    "            # Divides the entire dataset into [batch_size] batches\n",
    "            training_generator = torch.utils.data.DataLoader(self.data.train_set, \n",
    "                batch_size = self.batch_size,\n",
    "                shuffle = True,\n",
    "            )\n",
    "            train_gen = iter(training_generator)\n",
    "            \n",
    "            # Only trains using [batch_size / 2] of the generated batches.\n",
    "            # So if there were a total of 500 batches, and our batch_size\n",
    "            # equals 20, then it will only train with 10 batches of 20\n",
    "            # input-target pairs for the current epoch.\n",
    "            for index in range(round(self.batch_size / 2)):\n",
    "                # Trains the model for the\n",
    "                # current epoch\n",
    "                inp, tar = train_gen.next()\n",
    "                loss = self.model.trainer(self, zip(inp, tar))  \n",
    "                loss_avg += loss\n",
    "                \n",
    "            # Prints a progress bar :)\n",
    "            barLength = 30\n",
    "            progress = round(epoch / self.n_epochs * 100)\n",
    "            p = int((progress * barLength) / 100)\n",
    "            bar = (\"=\" * p) + (\" \" * (barLength - p))\n",
    "            other_info = f\"Epoch #{epoch} of {self.n_epochs}\"\n",
    "            print(f\":: [{bar}] {str(progress)}% Complete. {other_info}\", end=\"\\r\")\n",
    "\n",
    "            # Saves the epoch execution time for later plotting\n",
    "            all_losses.append(loss_avg / self.plot_every)\n",
    "            loss_avg = 0\n",
    "\n",
    "        # Prints the total time taken by training the model\n",
    "        print(\"\\nTotal training time:\", time_since(total_time_start))\n",
    "        \n",
    "        # Plots the loss\n",
    "        if plot_loss:\n",
    "            plt.figure()\n",
    "            plt.plot(all_losses)\n",
    "        \n",
    "        \n",
    "    def generate(self, prime_str, predict_len=100, temperature=0.8):\n",
    "        prime_str = prime_str.lower()\n",
    "        hidden = self.model.init_hidden()\n",
    "\n",
    "        for p in range(predict_len):\n",
    "            prime_input = torch.tensor([self.data.word_to_ix[w] for w in list(prime_str)], dtype=torch.long)\n",
    "            inp = prime_input[-INPUT_SIZE:] # last [INPUT_SIZE] chars as input\n",
    "            output, hidden = self.model.forward(inp, hidden)\n",
    "\n",
    "            # Sample from the network as a multinomial distribution\n",
    "            output_dist = output.data.view(-1).div(temperature).exp()\n",
    "            top_i = torch.multinomial(output_dist, 1)[0]\n",
    "\n",
    "            # Add predicted word to string and use as next input\n",
    "            predicted_word = list(self.data.word_to_ix.keys())[list(self.data.word_to_ix.values()).index(top_i)]\n",
    "            \n",
    "            if predicted_word == \">\":\n",
    "                break\n",
    "            else:\n",
    "                prime_str += predicted_word\n",
    "\n",
    "        return prime_str"
   ]
  },
  {
   "cell_type": "markdown",
   "metadata": {},
   "source": [
    "# The Model Evaluator"
   ]
  },
  {
   "cell_type": "code",
   "execution_count": 7,
   "metadata": {},
   "outputs": [],
   "source": [
    "def evaluate_model(model):\n",
    "    rouge = Rouge()\n",
    "\n",
    "    # cleans a peom\n",
    "    def clean_poem(poem):\n",
    "        return [\"\".join([char for char in word.lower() if char in valid_chars])\n",
    "                    for word in poem.split()]\n",
    "\n",
    "    # list of poems with clean data as hypothesis for ROUGE\n",
    "    rouge_hyp = [\" \".join(clean_poem(poem)) for poem in model.data.test_set]\n",
    "    rouge_refs = []\n",
    "\n",
    "    # list of lists of poems with clean data as hypothesis for BLEU\n",
    "    bleu_references = [clean_poem(poem) for poem in model.data.test_set]\n",
    "    bleu_candidates = []\n",
    "\n",
    "    for i in range(len(model.data.test_set)):\n",
    "        first_chars = \" \".join(list(rouge_hyp[i])[:INPUT_SIZE])\n",
    "        gen_poem = model.generate(first_chars)\n",
    "        gen_poem = [word for word in nltk.word_tokenize(gen_poem)]\n",
    "\n",
    "        # for rouge\n",
    "        rouge_refs.append(\" \".join(gen_poem))\n",
    "\n",
    "        # for bleu\n",
    "        bleu_candidates.append(gen_poem)\n",
    "\n",
    "    rouge_scores = rouge.get_scores(rouge_hyp, rouge_refs, avg=True)\n",
    "    print(\"ROUGE SCORE:\", rouge_scores)\n",
    "\n",
    "    bleu_score = corpus_bleu(bleu_references, bleu_candidates)\n",
    "    print(\"\\nBLEU SCORE:\", bleu_score)"
   ]
  },
  {
   "cell_type": "markdown",
   "metadata": {},
   "source": [
    "# The Model for the \"Joy\" Category"
   ]
  },
  {
   "cell_type": "code",
   "execution_count": 8,
   "metadata": {
    "scrolled": false
   },
   "outputs": [
    {
     "name": "stdout",
     "output_type": "stream",
     "text": [
      "Number of tokens: 6056794\n",
      "Vocabulary size: 48\n",
      "Number of in-out pairs: 6056789\n",
      "[(('<', 'f', 'o', 'r', ' '), 'l'), (('f', 'o', 'r', ' ', 'l'), 'l'), (('o', 'r', ' ', 'l', 'l'), 'e')]\n",
      "\n",
      "Generating Input-Output Pairs...\n",
      ":: [==============================] 100% Complete. Pair #6056000 of 6056789\r"
     ]
    }
   ],
   "source": [
    "joyData = DataProcessor(poems[\"joy\"])"
   ]
  },
  {
   "cell_type": "code",
   "execution_count": 9,
   "metadata": {
    "scrolled": false
   },
   "outputs": [
    {
     "name": "stdout",
     "output_type": "stream",
     "text": [
      "Training...\n",
      ":: [==============================] 100% Complete. Epoch #1000 of 1000\n",
      "Total training time: 11m 58s\n"
     ]
    },
    {
     "data": {
      "image/png": "[encoded data removed]",
      "text/plain": [
       "<Figure size 432x288 with 1 Axes>"
      ]
     },
     "metadata": {
      "needs_background": "light"
     },
     "output_type": "display_data"
    }
   ],
   "source": [
    "joyModel = PoemModel(joyData)\n",
    "joyModel.train()"
   ]
  },
  {
   "cell_type": "code",
   "execution_count": 10,
   "metadata": {},
   "outputs": [
    {
     "data": {
      "text/plain": [
       "'<love new the woan she hir apt to and on the diaker light and the late frow be the sing to the home you a'"
      ]
     },
     "execution_count": 10,
     "metadata": {},
     "output_type": "execute_result"
    }
   ],
   "source": [
    "joyModel.generate(\"<Love\")"
   ]
  },
  {
   "cell_type": "markdown",
   "metadata": {},
   "source": [
    "From the above generated sentence, we can observe that the model was able to learn how to correctly separate words (with only once space between words), as well as the correct spelling of small words like \"and\", \"the\", and \"that\"."
   ]
  },
  {
   "cell_type": "code",
   "execution_count": 11,
   "metadata": {},
   "outputs": [
    {
     "name": "stdout",
     "output_type": "stream",
     "text": [
      "ROUGE SCORE: {'rouge-1': {'f': 0.06816787460892197, 'p': 0.04283017483996642, 'r': 0.2628039389673573}, 'rouge-2': {'f': 0.002107223022469656, 'p': 0.001362943893278627, 'r': 0.010887747035573124}, 'rouge-l': {'f': 0.05579010201769253, 'p': 0.03520515147577734, 'r': 0.1907735094044019}}\n",
      "\n",
      "BLEU SCORE: 0.06330113325436737\n"
     ]
    }
   ],
   "source": [
    "evaluate_model(joyModel)"
   ]
  },
  {
   "cell_type": "markdown",
   "metadata": {},
   "source": [
    "# The Model for the \"Trust\" Category"
   ]
  },
  {
   "cell_type": "code",
   "execution_count": 12,
   "metadata": {
    "scrolled": true
   },
   "outputs": [
    {
     "name": "stdout",
     "output_type": "stream",
     "text": [
      "Number of tokens: 6777485\n",
      "Vocabulary size: 48\n",
      "Number of in-out pairs: 6777480\n",
      "[(('<', ' ', 'c', 'l', 'o'), 's'), ((' ', 'c', 'l', 'o', 's'), 'e'), (('c', 'l', 'o', 's', 'e'), ' ')]\n",
      "\n",
      "Generating Input-Output Pairs...\n",
      ":: [==============================] 100% Complete. Pair #6776000 of 6777480\r"
     ]
    }
   ],
   "source": [
    "trustData = DataProcessor(poems[\"trust\"])"
   ]
  },
  {
   "cell_type": "code",
   "execution_count": 13,
   "metadata": {},
   "outputs": [
    {
     "name": "stdout",
     "output_type": "stream",
     "text": [
      "Training...\n",
      ":: [==============================] 100% Complete. Epoch #1000 of 1000\n",
      "Total training time: 13m 48s\n"
     ]
    },
    {
     "data": {
      "image/png": "[encoded data removed]",
      "text/plain": [
       "<Figure size 432x288 with 1 Axes>"
      ]
     },
     "metadata": {
      "needs_background": "light"
     },
     "output_type": "display_data"
    }
   ],
   "source": [
    "trustModel = PoemModel(trustData)\n",
    "trustModel.train()"
   ]
  },
  {
   "cell_type": "code",
   "execution_count": 14,
   "metadata": {},
   "outputs": [
    {
     "data": {
      "text/plain": [
       "'<feely arkenst tounfio dexpey, me coust and pas amppe, that hoers to every, way the benit, enders frip. s'"
      ]
     },
     "execution_count": 14,
     "metadata": {},
     "output_type": "execute_result"
    }
   ],
   "source": [
    "trustModel.generate(\"<Feel\")"
   ]
  },
  {
   "cell_type": "code",
   "execution_count": 15,
   "metadata": {},
   "outputs": [
    {
     "name": "stdout",
     "output_type": "stream",
     "text": [
      "ROUGE SCORE: {'rouge-1': {'f': 0.061449751550437345, 'p': 0.03834814022025178, 'r': 0.25213156994245917}, 'rouge-2': {'f': 0.00161167730482412, 'p': 0.0009049783551111915, 'r': 0.008992640692640693}, 'rouge-l': {'f': 0.06002823888875649, 'p': 0.03845054593199813, 'r': 0.20398427125887075}}\n",
      "\n",
      "BLEU SCORE: 0.07045185985373457\n"
     ]
    }
   ],
   "source": [
    "evaluate_model(trustModel)"
   ]
  },
  {
   "cell_type": "markdown",
   "metadata": {},
   "source": [
    "# The Model for the \"Sadness\" Category"
   ]
  },
  {
   "cell_type": "code",
   "execution_count": 16,
   "metadata": {},
   "outputs": [
    {
     "name": "stdout",
     "output_type": "stream",
     "text": [
      "Number of tokens: 1890762\n",
      "Vocabulary size: 48\n",
      "Number of in-out pairs: 1890757\n",
      "[(('<', 'n', 'c', 'e', ' '), 'm'), (('n', 'c', 'e', ' ', 'm'), 'o'), (('c', 'e', ' ', 'm', 'o'), 'r')]\n",
      "\n",
      "Generating Input-Output Pairs...\n",
      ":: [==============================] 100% Complete. Pair #1890000 of 1890757\r"
     ]
    }
   ],
   "source": [
    "sadnessData = DataProcessor(poems[\"sadness\"])"
   ]
  },
  {
   "cell_type": "code",
   "execution_count": 17,
   "metadata": {
    "scrolled": true
   },
   "outputs": [
    {
     "name": "stdout",
     "output_type": "stream",
     "text": [
      "Training...\n",
      ":: [==============================] 100% Complete. Epoch #1000 of 1000\n",
      "Total training time: 6m 59s\n"
     ]
    },
    {
     "data": {
      "image/png": "[encoded data removed]",
      "text/plain": [
       "<Figure size 432x288 with 1 Axes>"
      ]
     },
     "metadata": {
      "needs_background": "light"
     },
     "output_type": "display_data"
    }
   ],
   "source": [
    "sadnessModel = PoemModel(sadnessData)\n",
    "sadnessModel.train()"
   ]
  },
  {
   "cell_type": "code",
   "execution_count": 18,
   "metadata": {},
   "outputs": [
    {
     "data": {
      "text/plain": [
       "'<tear hoke the lome, nd can breath stilen and caser white criith wall ownelt. o and then  asm home coneed'"
      ]
     },
     "execution_count": 18,
     "metadata": {},
     "output_type": "execute_result"
    }
   ],
   "source": [
    "sadnessModel.generate(\"<Tear\")"
   ]
  },
  {
   "cell_type": "code",
   "execution_count": 19,
   "metadata": {},
   "outputs": [
    {
     "name": "stdout",
     "output_type": "stream",
     "text": [
      "ROUGE SCORE: {'rouge-1': {'f': 0.06053457376307031, 'p': 0.0377327733265015, 'r': 0.21836668109414106}, 'rouge-2': {'f': 0.0020201421517741618, 'p': 0.0011863754050357794, 'r': 0.008540993788819876}, 'rouge-l': {'f': 0.05678164944947081, 'p': 0.03622463662389178, 'r': 0.17388191314525958}}\n",
      "\n",
      "BLEU SCORE: 0.06568112305169231\n"
     ]
    }
   ],
   "source": [
    "evaluate_model(sadnessModel)"
   ]
  },
  {
   "cell_type": "markdown",
   "metadata": {},
   "source": [
    "# The Model for the \"Anticipation\" Category"
   ]
  },
  {
   "cell_type": "code",
   "execution_count": 20,
   "metadata": {},
   "outputs": [
    {
     "name": "stdout",
     "output_type": "stream",
     "text": [
      "Number of tokens: 1598646\n",
      "Vocabulary size: 48\n",
      "Number of in-out pairs: 1598641\n",
      "[(('<', 'i', 'c', 'e', ' '), 's'), (('i', 'c', 'e', ' ', 's'), 'p'), (('c', 'e', ' ', 's', 'p'), 'r')]\n",
      "\n",
      "Generating Input-Output Pairs...\n",
      ":: [==============================] 100% Complete. Pair #1598000 of 1598641\r"
     ]
    }
   ],
   "source": [
    "anticipationData = DataProcessor(poems[\"anticipation\"])"
   ]
  },
  {
   "cell_type": "code",
   "execution_count": 21,
   "metadata": {},
   "outputs": [
    {
     "name": "stdout",
     "output_type": "stream",
     "text": [
      "Training...\n",
      ":: [==============================] 100% Complete. Epoch #1000 of 1000\n",
      "Total training time: 6m 25s\n"
     ]
    },
    {
     "data": {
      "image/png": "[encoded data removed]",
      "text/plain": [
       "<Figure size 432x288 with 1 Axes>"
      ]
     },
     "metadata": {
      "needs_background": "light"
     },
     "output_type": "display_data"
    }
   ],
   "source": [
    "anticipationModel = PoemModel(anticipationData)\n",
    "anticipationModel.train()"
   ]
  },
  {
   "cell_type": "code",
   "execution_count": 22,
   "metadata": {},
   "outputs": [
    {
     "data": {
      "text/plain": [
       "'<hopeaddian, when the someterion a comes, with in and t to ever grived and lut end the said. t mill n hat'"
      ]
     },
     "execution_count": 22,
     "metadata": {},
     "output_type": "execute_result"
    }
   ],
   "source": [
    "anticipationModel.generate(\"<Hope\")"
   ]
  },
  {
   "cell_type": "code",
   "execution_count": 23,
   "metadata": {},
   "outputs": [
    {
     "name": "stdout",
     "output_type": "stream",
     "text": [
      "ROUGE SCORE: {'rouge-1': {'f': 0.07835251148295427, 'p': 0.05017076594946051, 'r': 0.2674169480971581}, 'rouge-2': {'f': 0.002203181310160996, 'p': 0.001262226222840987, 'r': 0.010777240472892646}, 'rouge-l': {'f': 0.06122951448937185, 'p': 0.03959733592422694, 'r': 0.18164031187773946}}\n",
      "\n",
      "BLEU SCORE: 0.06600027176631756\n"
     ]
    }
   ],
   "source": [
    "evaluate_model(anticipationModel)"
   ]
  },
  {
   "cell_type": "markdown",
   "metadata": {},
   "source": [
    "# The Model for the \"Fear\" Category"
   ]
  },
  {
   "cell_type": "code",
   "execution_count": 24,
   "metadata": {
    "scrolled": true
   },
   "outputs": [
    {
     "name": "stdout",
     "output_type": "stream",
     "text": [
      "Number of tokens: 1668814\n",
      "Vocabulary size: 48\n",
      "Number of in-out pairs: 1668809\n",
      "[(('<', 'o', 'm', 'e', ','), ' '), (('o', 'm', 'e', ',', ' '), 's'), (('m', 'e', ',', ' ', 's'), 'u')]\n",
      "\n",
      "Generating Input-Output Pairs...\n",
      ":: [==============================] 100% Complete. Pair #1668000 of 1668809\r"
     ]
    }
   ],
   "source": [
    "fearData = DataProcessor(poems[\"fear\"])"
   ]
  },
  {
   "cell_type": "code",
   "execution_count": 25,
   "metadata": {},
   "outputs": [
    {
     "name": "stdout",
     "output_type": "stream",
     "text": [
      "Training...\n",
      ":: [==============================] 100% Complete. Epoch #1000 of 1000\n",
      "Total training time: 6m 37s\n"
     ]
    },
    {
     "data": {
      "image/png": "[encoded data removed]",
      "text/plain": [
       "<Figure size 432x288 with 1 Axes>"
      ]
     },
     "metadata": {
      "needs_background": "light"
     },
     "output_type": "display_data"
    }
   ],
   "source": [
    "fearModel = PoemModel(fearData)\n",
    "fearModel.train()"
   ]
  },
  {
   "cell_type": "code",
   "execution_count": 26,
   "metadata": {},
   "outputs": [
    {
     "data": {
      "text/plain": [
       "'<fears and she stame., her so the bain ever of the tawes blaits and herrat, a sor the streers in the mani'"
      ]
     },
     "execution_count": 26,
     "metadata": {},
     "output_type": "execute_result"
    }
   ],
   "source": [
    "fearModel.generate(\"<Fear\")"
   ]
  },
  {
   "cell_type": "code",
   "execution_count": 27,
   "metadata": {},
   "outputs": [
    {
     "name": "stdout",
     "output_type": "stream",
     "text": [
      "ROUGE SCORE: {'rouge-1': {'f': 0.06063475846773179, 'p': 0.03731699793889177, 'r': 0.24357668451266648}, 'rouge-2': {'f': 0.0022283709246757105, 'p': 0.0012522277506657217, 'r': 0.0153613154960981}, 'rouge-l': {'f': 0.05518050549681793, 'p': 0.03492954238155375, 'r': 0.17990082808114846}}\n",
      "\n",
      "BLEU SCORE: 0.0657949642414411\n"
     ]
    }
   ],
   "source": [
    "evaluate_model(fearModel)"
   ]
  },
  {
   "cell_type": "markdown",
   "metadata": {},
   "source": [
    "# The Model for the \"Anger\" Category"
   ]
  },
  {
   "cell_type": "code",
   "execution_count": 28,
   "metadata": {},
   "outputs": [
    {
     "name": "stdout",
     "output_type": "stream",
     "text": [
      "Number of tokens: 113828\n",
      "Vocabulary size: 48\n",
      "Number of in-out pairs: 113823\n",
      "[(('<', ' ', 's', 't', 'a'), 'y'), ((' ', 's', 't', 'a', 'y'), ' '), (('s', 't', 'a', 'y', ' '), 'o')]\n",
      "\n",
      "Generating Input-Output Pairs...\n",
      ":: [============================= ] 98% Complete. Pair #112000 of 113823\r"
     ]
    }
   ],
   "source": [
    "angerData = DataProcessor(poems[\"anger\"])"
   ]
  },
  {
   "cell_type": "code",
   "execution_count": 29,
   "metadata": {},
   "outputs": [
    {
     "name": "stdout",
     "output_type": "stream",
     "text": [
      "Training...\n",
      ":: [==============================] 100% Complete. Epoch #1000 of 1000\n",
      "Total training time: 5m 13s\n"
     ]
    },
    {
     "data": {
      "image/png": "[encoded data removed]",
      "text/plain": [
       "<Figure size 432x288 with 1 Axes>"
      ]
     },
     "metadata": {
      "needs_background": "light"
     },
     "output_type": "display_data"
    }
   ],
   "source": [
    "angerModel = PoemModel(angerData)\n",
    "angerModel.train()"
   ]
  },
  {
   "cell_type": "code",
   "execution_count": 30,
   "metadata": {},
   "outputs": [
    {
     "data": {
      "text/plain": [
       "'<rage toom dear anse dele  with of revings and enend the spartirshlese streaturees.a was  says, chell, o '"
      ]
     },
     "execution_count": 30,
     "metadata": {},
     "output_type": "execute_result"
    }
   ],
   "source": [
    "angerModel.generate(\"<Rage\")"
   ]
  },
  {
   "cell_type": "code",
   "execution_count": 31,
   "metadata": {},
   "outputs": [
    {
     "name": "stdout",
     "output_type": "stream",
     "text": [
      "ROUGE SCORE: {'rouge-1': {'f': 0.08429297392858741, 'p': 0.05837870585910867, 'r': 0.20513532455106667}, 'rouge-2': {'f': 0.0028380805158796157, 'p': 0.001954776129052537, 'r': 0.007938110038110036}, 'rouge-l': {'f': 0.07637850726225513, 'p': 0.054760429643228095, 'r': 0.16121751028867737}}\n",
      "\n",
      "BLEU SCORE: 0.07932743799926341\n"
     ]
    }
   ],
   "source": [
    "evaluate_model(angerModel)"
   ]
  },
  {
   "cell_type": "markdown",
   "metadata": {},
   "source": [
    "# The Model for the \"Disgust\" Category"
   ]
  },
  {
   "cell_type": "code",
   "execution_count": 32,
   "metadata": {},
   "outputs": [
    {
     "name": "stdout",
     "output_type": "stream",
     "text": [
      "Number of tokens: 42800\n",
      "Vocabulary size: 48\n",
      "Number of in-out pairs: 42795\n",
      "[(('<', 'a', 't', 'e', ' '), 'a'), (('a', 't', 'e', ' ', 'a'), 'f'), (('t', 'e', ' ', 'a', 'f'), 't')]\n",
      "\n",
      "Generating Input-Output Pairs...\n",
      ":: [============================= ] 98% Complete. Pair #42000 of 42795\r"
     ]
    }
   ],
   "source": [
    "disgustData = DataProcessor(poems[\"disgust\"])"
   ]
  },
  {
   "cell_type": "code",
   "execution_count": 33,
   "metadata": {
    "scrolled": true
   },
   "outputs": [
    {
     "name": "stdout",
     "output_type": "stream",
     "text": [
      "Training...\n",
      ":: [==============================] 100% Complete. Epoch #1000 of 1000\n",
      "Total training time: 5m 16s\n"
     ]
    },
    {
     "data": {
      "image/png": "[encoded data removed]",
      "text/plain": [
       "<Figure size 432x288 with 1 Axes>"
      ]
     },
     "metadata": {
      "needs_background": "light"
     },
     "output_type": "display_data"
    }
   ],
   "source": [
    "disgustModel = PoemModel(disgustData)\n",
    "disgustModel.train()"
   ]
  },
  {
   "cell_type": "code",
   "execution_count": 34,
   "metadata": {},
   "outputs": [
    {
     "data": {
      "text/plain": [
       "'<guts done-shurpownings and to gones, his on scouls of youdhor en the burn ties and on hand have to roels'"
      ]
     },
     "execution_count": 34,
     "metadata": {},
     "output_type": "execute_result"
    }
   ],
   "source": [
    "disgustModel.generate(\"<Guts\")"
   ]
  },
  {
   "cell_type": "code",
   "execution_count": 35,
   "metadata": {},
   "outputs": [
    {
     "name": "stdout",
     "output_type": "stream",
     "text": [
      "ROUGE SCORE: {'rouge-1': {'f': 0.060607765872905485, 'p': 0.04292483967619461, 'r': 0.15794617763793967}, 'rouge-2': {'f': 0.0009190697458892438, 'p': 0.0005325500811124888, 'r': 0.004181220229046316}, 'rouge-l': {'f': 0.05945986393188673, 'p': 0.043701855078547756, 'r': 0.13040026339454255}}\n",
      "\n",
      "BLEU SCORE: 0.08103760095550393\n"
     ]
    }
   ],
   "source": [
    "evaluate_model(disgustModel)"
   ]
  },
  {
   "cell_type": "code",
   "execution_count": null,
   "metadata": {},
   "outputs": [],
   "source": []
  }
 ],
 "metadata": {
  "kernelspec": {
   "display_name": "Python 3",
   "language": "python",
   "name": "python3"
  },
  "language_info": {
   "codemirror_mode": {
    "name": "ipython",
    "version": 3
   },
   "file_extension": ".py",
   "mimetype": "text/x-python",
   "name": "python",
   "nbconvert_exporter": "python",
   "pygments_lexer": "ipython3",
   "version": "3.8.5"
  }
 },
 "nbformat": 4,
 "nbformat_minor": 4
}
