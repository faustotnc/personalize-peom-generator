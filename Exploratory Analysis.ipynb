{
 "cells": [
  {
   "cell_type": "code",
   "execution_count": 1,
   "metadata": {},
   "outputs": [
    {
     "name": "stderr",
     "output_type": "stream",
     "text": [
      "/Users/faustotnc/.pyenv/versions/3.8.5/lib/python3.8/site-packages/pandas/compat/__init__.py:120: UserWarning: Could not import the lzma module. Your installed Python is incomplete. Attempting to use lzma compression will result in a RuntimeError.\n",
      "  warnings.warn(msg)\n"
     ]
    }
   ],
   "source": [
    "import nltk\n",
    "import pandas as pd\n",
    "import matplotlib.pyplot as plt\n",
    "\n",
    "# Used in the Lemmatizer\n",
    "from nltk.corpus import wordnet\n",
    "from nltk.stem import WordNetLemmatizer"
   ]
  },
  {
   "cell_type": "markdown",
   "metadata": {},
   "source": [
    "# Loading the Data"
   ]
  },
  {
   "cell_type": "code",
   "execution_count": 2,
   "metadata": {},
   "outputs": [
    {
     "name": "stdout",
     "output_type": "stream",
     "text": [
      "===================== Sample Data from the Poetry Foundation Dataset\n",
      "10913    \\r\\n\\r\\n                        Nobody was lef...\n",
      "8660     \\r\\n\\r\\nOne last time I unlock the house where...\n",
      "8952     \\r\\n\\r\\nMy grandmother said when she was young...\n",
      "6205     \\r\\n\\r\\nFrom a ways, the sky and your hands\\r\\...\n",
      "7271     \\r\\n\\r\\n\\r\\n\\r\\n\\r\\n\\r\\n\\r\\n\\r\\n(excerpt)\\r\\n\\...\n",
      "                               ...                        \n",
      "6308     \\r\\n\\r\\nI got a letter through the post decree...\n",
      "6679     \\r\\n\\r\\nCreo que si ... I believe   it will ra...\n",
      "10305    \\r\\n\\r\\nEven when your friend, the radio, is s...\n",
      "8672     \\r\\n\\r\\nI wish I could find that skinny, long-...\n",
      "6671     \\r\\n\\r\\nAs I sd to my   \\r\\n\\r\\nfriend, becaus...\n",
      "Name: Poem, Length: 13854, dtype: object\n",
      "\n",
      "===================== Sample Data from the EmoLex dataset\n",
      "             word       emotion  emotion-intensity-score\n",
      "30         murder         anger                    0.897\n",
      "4947       hooded          fear                    0.266\n",
      "4850     ordnance          fear                    0.312\n",
      "9764        divan         trust                    0.297\n",
      "4701   bottomless          fear                    0.359\n",
      "...           ...           ...                      ...\n",
      "6617     disaster       sadness                    0.758\n",
      "1782  convergence  anticipation                    0.547\n",
      "5327        yayyy           joy                    0.803\n",
      "7861      rupture      surprise                    0.719\n",
      "733        fervor         anger                    0.500\n",
      "\n",
      "[9921 rows x 3 columns]\n"
     ]
    }
   ],
   "source": [
    "pfd     =  pd.read_csv(\"./datasets/PoetryFoundationData.csv\")\n",
    "pfd     =  pfd.sample(frac=1)  # Randomizes the data\n",
    "emolex  =  pd.read_csv(\"./datasets/NRC-Emotion-Intensity-Lexicon-v1/NRC-Emotion-Intensity-Lexicon-v1.txt\", sep=\"\\t\")\n",
    "emolex  =  emolex.sample(frac=1)  # Randomizes the data\n",
    "\n",
    "print(\"===================== Sample Data from the Poetry Foundation Dataset\")\n",
    "print(pfd[\"Poem\"])\n",
    "print(\"\\n===================== Sample Data from the EmoLex dataset\")\n",
    "print(emolex)"
   ]
  },
  {
   "cell_type": "markdown",
   "metadata": {},
   "source": [
    "# Processing the Data"
   ]
  },
  {
   "cell_type": "markdown",
   "metadata": {},
   "source": [
    "## The Lemmatizer"
   ]
  },
  {
   "cell_type": "code",
   "execution_count": 3,
   "metadata": {},
   "outputs": [],
   "source": [
    "# NOTE: This code is a modification of the code found in this article:\n",
    "# https://www.machinelearningplus.com/nlp/lemmatization-examples-python/\n",
    "\n",
    "\n",
    "# Init the Wordnet Lemmatizer\n",
    "Lemmatizer = WordNetLemmatizer()\n",
    "\n",
    "# Gets the WordNet POS tag for a word\n",
    "def get_wordnet_pos(word):\n",
    "    \"\"\"Map POS tag to first character lemmatize() accepts\"\"\"\n",
    "\n",
    "    tag = nltk.pos_tag([word])[0][1][0].upper()\n",
    "\n",
    "    tag_dict = {\n",
    "        \"J\": wordnet.ADJ,\n",
    "        \"N\": wordnet.NOUN,\n",
    "        \"V\": wordnet.VERB,\n",
    "        \"R\": wordnet.ADV\n",
    "    }\n",
    "\n",
    "    wn = wordnet.NOUN\n",
    "\n",
    "    return tag_dict.get(tag, wn)\n",
    "\n",
    "# Lemmatizes the given word or list of words\n",
    "def Lemmatize(words):\n",
    "    if type(words) == str:\n",
    "        return Lemmatizer.lemmatize(words, get_wordnet_pos(words))\n",
    "    else:\n",
    "        return [Lemmatize(word) for word in words]"
   ]
  },
  {
   "cell_type": "code",
   "execution_count": 4,
   "metadata": {},
   "outputs": [
    {
     "data": {
      "text/plain": [
       "['calculate', 'foot']"
      ]
     },
     "execution_count": 4,
     "metadata": {},
     "output_type": "execute_result"
    }
   ],
   "source": [
    "# Tests the Lemmatizer\n",
    "Lemmatize([\"calculating\", \"feet\"])"
   ]
  },
  {
   "cell_type": "markdown",
   "metadata": {},
   "source": [
    "## Processing the EmoLex Data"
   ]
  },
  {
   "cell_type": "code",
   "execution_count": 5,
   "metadata": {},
   "outputs": [
    {
     "name": "stdout",
     "output_type": "stream",
     "text": [
      "murder: ('fear', 0.9059999999999999)\n",
      "hood: ('fear', 0.266)\n",
      "ordnance: ('fear', 0.312)\n",
      "divan: ('trust', 0.297)\n",
      "bottomless: ('fear', 0.359)\n",
      "deal: ('anticipation', 0.402)\n",
      "opera: ('anticipation', 0.469)\n",
      "venomous: ('anger', 0.818)\n",
      "indonesia: ('trust', 0.297)\n",
      "commonplace: ('trust', 0.45299999999999996)\n",
      "absolution: ('trust', 0.617)\n",
      "servant: ('trust', 0.344)\n",
      "cultivate: ('trust', 0.555)\n",
      "mastery: ('trust', 0.672)\n",
      "cheerfulness: ('joy', 0.758)\n",
      "pay: ('anticipation', 0.461)\n"
     ]
    }
   ],
   "source": [
    "# A dictionary that maps each word in the emolex\n",
    "# dataset to a 2-tuple of the emotion and\n",
    "# intensity score associated to that word.\n",
    "processedEmoLexData = dict()\n",
    "\n",
    "emolexWords = Lemmatize(emolex[\"word\"])\n",
    "emolexLables = emolex[\"emotion\"]\n",
    "emolexScores = emolex[\"emotion-intensity-score\"]\n",
    "\n",
    "for w, l, s in zip(emolexWords, emolexLables, emolexScores):\n",
    "    if (w not in processedEmoLexData):\n",
    "        processedEmoLexData[w] = (l, s)\n",
    "    else:\n",
    "        # If the word is already present in the dictionary,\n",
    "        # but now there is an emotion with a higher score\n",
    "        # associated with that word, then we assign the new\n",
    "        # emotion to the word.\n",
    "        if (processedEmoLexData[w][1] < s):\n",
    "            processedEmoLexData[w] = (l, s)\n",
    "\n",
    "# Prints the first 15 words from the\n",
    "# processed dictionary\n",
    "count = 0\n",
    "for w in processedEmoLexData:\n",
    "    print(w + ':', processedEmoLexData[w])\n",
    "    \n",
    "    if (count >= 15):\n",
    "        break\n",
    "    else:\n",
    "        count += 1"
   ]
  },
  {
   "cell_type": "code",
   "execution_count": 6,
   "metadata": {},
   "outputs": [
    {
     "name": "stdout",
     "output_type": "stream",
     "text": [
      "('anger', 1.897)\n",
      "('joy', 0.879)\n"
     ]
    }
   ],
   "source": [
    "# Guesses the emotion of the passed poem\n",
    "def label_poem_emotion(poem):\n",
    "    scores = dict()\n",
    "    \n",
    "    for word in nltk.word_tokenize(poem):\n",
    "        if word.isalnum():\n",
    "            word = Lemmatize(word.lower())\n",
    "\n",
    "            if word in processedEmoLexData:\n",
    "                emotion, score = processedEmoLexData[word]\n",
    "\n",
    "                # Adds the new emotion to the `scores` dictionary\n",
    "                # if it is not present, otherwise aggregates the\n",
    "                # new score with the the already present score.\n",
    "                if emotion not in scores:\n",
    "                    scores[emotion] = score\n",
    "                else:\n",
    "                    scores[emotion] += score\n",
    "                    \n",
    "    # Sorts the emotions and return the one with highest value\n",
    "    scores = sorted(scores.items(), key=lambda x: x[1], reverse=True)\n",
    "    return scores[0] if len(scores) > 0 else (\"**UNKNOWN**\", 1)\n",
    "\n",
    "\n",
    "# Tests the emotion labeler\n",
    "print(label_poem_emotion(\"This unkind brutality makes me infuriated.\"))\n",
    "print(label_poem_emotion(\"Oh, I love the bright days I spend with you!\"))"
   ]
  },
  {
   "cell_type": "markdown",
   "metadata": {},
   "source": [
    "## Processing the Poetry Foundation Dataset"
   ]
  },
  {
   "cell_type": "code",
   "execution_count": 7,
   "metadata": {},
   "outputs": [
    {
     "name": "stdout",
     "output_type": "stream",
     "text": [
      "\n",
      "\n",
      ":: Labeling Poems...\n",
      ":: [==================================================] 100% Done.\n"
     ]
    }
   ],
   "source": [
    "# Assigns an emotions to each poem in the dataset\n",
    "print(\"\\n\\n:: Labeling Poems...\")\n",
    "poemLabels = []\n",
    "for poem in pfd[\"Poem\"]:\n",
    "    poemLabels.append(label_poem_emotion(poem)[0])\n",
    "\n",
    "    # Prints a progress bar :)\n",
    "    barLength = 50\n",
    "    progress = round(len(poemLabels) / len(pfd) * 100)\n",
    "    p = int((progress * barLength) / 100)\n",
    "    bar = (\"=\" * p) + (\" \" * (barLength - p))\n",
    "    print(f\":: [{bar}] {str(progress)}% Done.\", end=\"\\r\")\n",
    "\n",
    "# Prints a success message after labeling the poems\n",
    "print(f\":: [{bar}] {str(progress)}% Done.\")\n",
    "\n",
    "# Generates a new dataframe with the poems and their label\n",
    "# NOTE: this is the dataframe that will be used to train the\n",
    "# our final model for generating new poems.\n",
    "new_data = pd.DataFrame(data={\n",
    "    \"poem\": pfd[\"Poem\"],\n",
    "    \"emotion\": poemLabels\n",
    "})"
   ]
  },
  {
   "cell_type": "code",
   "execution_count": 8,
   "metadata": {},
   "outputs": [
    {
     "data": {
      "image/png": "[encoded data removed]",
      "text/plain": [
       "<Figure size 864x432 with 1 Axes>"
      ]
     },
     "metadata": {
      "needs_background": "light"
     },
     "output_type": "display_data"
    }
   ],
   "source": [
    "def show_emotion_freq_in_poems():\n",
    "    freq = nltk.FreqDist(new_data[\"emotion\"])\n",
    "\n",
    "    plt.rcParams[\"figure.figsize\"] = (12, 6)\n",
    "\n",
    "    x, y = ([], [])\n",
    "    for f in freq:\n",
    "        x.append(f)\n",
    "        y.append(freq[f])\n",
    "\n",
    "    x_pos = [i for i, _ in enumerate(x)]\n",
    "\n",
    "    plt.bar(x_pos, y, color='#2E8B57')\n",
    "    plt.xlabel(\"Emotion\")\n",
    "    plt.ylabel(\"Frequency\")\n",
    "    plt.title(\"Frequency of Emotions in Poem Data\")\n",
    "\n",
    "    plt.xticks(x_pos, x)\n",
    "\n",
    "    plt.show()\n",
    "    \n",
    "show_emotion_freq_in_poems()"
   ]
  },
  {
   "cell_type": "markdown",
   "metadata": {},
   "source": [
    "# Data Analysis"
   ]
  },
  {
   "cell_type": "markdown",
   "metadata": {},
   "source": [
    "## Statistical Data for the Poetry Foundation Dataset"
   ]
  },
  {
   "cell_type": "code",
   "execution_count": 9,
   "metadata": {},
   "outputs": [
    {
     "name": "stdout",
     "output_type": "stream",
     "text": [
      "1) Total Number of Documents: 13854\n",
      "2) Total Number of Tokens: 3437308\n",
      "3) Total Number of Unique Tokens: 125028\n",
      "4) Total Number of Sentences: 172482\n",
      "5) Avg. Number of Sentences in Document: 12.449978345604158\n",
      "6) Avg. Number of Lines in Document: 58.50252634618161\n"
     ]
    }
   ],
   "source": [
    "allTokens = []\n",
    "sentenceSizes = []\n",
    "lineCounts = []\n",
    "\n",
    "\n",
    "for poem in pfd[\"Poem\"]:\n",
    "    \n",
    "    for word in nltk.word_tokenize(poem):\n",
    "        if word.isalnum():\n",
    "            # Computes the total number of tokens in the corpus\n",
    "            allTokens.append(word)\n",
    "    \n",
    "    # Helps compute sentence statistics\n",
    "    sentenceSizes.append(len(poem.split(\".\")))\n",
    "    \n",
    "    # Helps compute line statistics\n",
    "    lineCounts.append(len(poem.split(\"\\n\")))\n",
    "        \n",
    "            \n",
    "print(\"1) Total Number of Documents:\", len(pfd))\n",
    "\n",
    "print(\"2) Total Number of Tokens:\", len(allTokens))\n",
    "print(\"3) Total Number of Unique Tokens:\", len(nltk.FreqDist(allTokens)))\n",
    "\n",
    "print(\"4) Total Number of Sentences:\", sum(sentenceSizes))\n",
    "print(\"5) Avg. Number of Sentences in Document:\", sum(sentenceSizes) / len(sentenceSizes))\n",
    "\n",
    "print(\"6) Avg. Number of Lines in Document:\", sum(lineCounts) / len(lineCounts))"
   ]
  },
  {
   "cell_type": "markdown",
   "metadata": {},
   "source": [
    "## Statistical Data for the EmoLex Dataset"
   ]
  },
  {
   "cell_type": "code",
   "execution_count": 10,
   "metadata": {},
   "outputs": [
    {
     "name": "stdout",
     "output_type": "stream",
     "text": [
      "1) Total Number of Documents (Before Processing): 9921\n",
      "2) Total Number of Unique Tokens (Before Processing): 5975\n",
      "3) Total Number of Documents (After Processing): 5524\n",
      "4) Total Number of Unique Tokens (After Processing): 5524\n"
     ]
    },
    {
     "data": {
      "image/png": "[encoded data removed]",
      "text/plain": [
       "<Figure size 720x360 with 1 Axes>"
      ]
     },
     "metadata": {
      "needs_background": "light"
     },
     "output_type": "display_data"
    }
   ],
   "source": [
    "# Plots a graph of the emotion frequecy distribution\n",
    "def show_emotion_freq():\n",
    "    freq = nltk.FreqDist(emolex[\"emotion\"])\n",
    "\n",
    "    plt.rcParams[\"figure.figsize\"] = (10, 5)\n",
    "\n",
    "    x, y = ([], [])\n",
    "    for f in freq:\n",
    "        x.append(f)\n",
    "        y.append(freq[f])\n",
    "\n",
    "    x_pos = [i for i, _ in enumerate(x)]\n",
    "\n",
    "    plt.bar(x_pos, y, color='#2E8B57')\n",
    "    plt.xlabel(\"Emotion\")\n",
    "    plt.ylabel(\"Frequency\")\n",
    "    plt.title(\"Frequency of Emotions in Emolex Data\")\n",
    "\n",
    "    plt.xticks(x_pos, x)\n",
    "\n",
    "    plt.show()\n",
    "\n",
    "print(\"1) Total Number of Documents (Before Processing):\", len(emolex))\n",
    "print(\"2) Total Number of Unique Tokens (Before Processing):\", len(nltk.FreqDist(emolex[\"word\"])))\n",
    "\n",
    "print(\"3) Total Number of Documents (After Processing):\", len(processedEmoLexData))\n",
    "print(\"4) Total Number of Unique Tokens (After Processing):\", len(nltk.FreqDist(emolexWords)))\n",
    "\n",
    "show_emotion_freq()"
   ]
  },
  {
   "cell_type": "code",
   "execution_count": null,
   "metadata": {},
   "outputs": [],
   "source": []
  }
 ],
 "metadata": {
  "kernelspec": {
   "display_name": "Python 3",
   "language": "python",
   "name": "python3"
  },
  "language_info": {
   "codemirror_mode": {
    "name": "ipython",
    "version": 3
   },
   "file_extension": ".py",
   "mimetype": "text/x-python",
   "name": "python",
   "nbconvert_exporter": "python",
   "pygments_lexer": "ipython3",
   "version": "3.8.5"
  }
 },
 "nbformat": 4,
 "nbformat_minor": 4
}
